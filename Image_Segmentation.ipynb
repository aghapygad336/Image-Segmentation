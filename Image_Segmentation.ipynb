{
  "nbformat": 4,
  "nbformat_minor": 0,
  "metadata": {
    "colab": {
      "name": "Image_Segmentation.ipynb",
      "provenance": [],
      "collapsed_sections": [],
      "machine_shape": "hm",
      "include_colab_link": true
    },
    "kernelspec": {
      "name": "python3",
      "display_name": "Python 3"
    },
    "accelerator": "GPU"
  },
  "cells": [
    {
      "cell_type": "markdown",
      "metadata": {
        "id": "view-in-github",
        "colab_type": "text"
      },
      "source": [
        "<a href=\"https://colab.research.google.com/github/aghapygad336/Image-Segmentation/blob/master/Image_Segmentation.ipynb\" target=\"_parent\"><img src=\"https://colab.research.google.com/assets/colab-badge.svg\" alt=\"Open In Colab\"/></a>"
      ]
    },
    {
      "cell_type": "code",
      "metadata": {
        "id": "4GIJrbTBgif0",
        "colab_type": "code",
        "colab": {}
      },
      "source": [
        "import numpy as np\n",
        "import matplotlib.pyplot as plt\n",
        "import math\n",
        "from pydrive.auth import GoogleAuth\n",
        "from pydrive.drive import GoogleDrive\n",
        "from google.colab import auth\n",
        "from oauth2client.client import GoogleCredentials\n",
        "from urllib.request import urlretrieve\n",
        "import cv2\n",
        "import os\n",
        "import glob\n",
        "import pandas as pd\n",
        "from os import listdir\n",
        "from os.path import isfile, join\n",
        "from sklearn.metrics.cluster import contingency_matrix\n",
        "import math\n",
        "from PIL import Image\n",
        "from matplotlib import *\n",
        "import random\n",
        "from sklearn.metrics import pairwise_distances\n",
        "\n",
        "from sklearn.cluster import SpectralClustering\n",
        "\n",
        "\n",
        "\n"
      ],
      "execution_count": 0,
      "outputs": []
    },
    {
      "cell_type": "code",
      "metadata": {
        "id": "wC1BgXAdgaoU",
        "colab_type": "code",
        "outputId": "b75e774d-8343-40c1-ea83-a3f53def63a9",
        "colab": {
          "base_uri": "https://localhost:8080/",
          "height": 1000
        }
      },
      "source": [
        "if not os.path.isfile('BSR_bsds500.tgz'):\n",
        "    urlretrieve('http://www.eecs.berkeley.edu/Research/Projects/CS/vision/grouping/BSR/BSR_bsds500.tgz','BSR_bsds500.tgz')\n",
        "if not os.path.isfile('content/BSR_bsds500.tgz'):\n",
        "    !apt-get install p7zip-full\n",
        "    !p7zip -d BSR_bsds500.tgz\n",
        "    !tar -xvf BSR_bsds500.tgz"
      ],
      "execution_count": 60,
      "outputs": [
        {
          "output_type": "stream",
          "text": [
            "Reading package lists... Done\n",
            "Building dependency tree       \n",
            "Reading state information... Done\n",
            "p7zip-full is already the newest version (16.02+dfsg-6).\n",
            "0 upgraded, 0 newly installed, 0 to remove and 29 not upgraded.\n",
            "/usr/bin/p7zip: BSR_bsds500.tgz: unknown suffix\n",
            "BSR/\n",
            "BSR/documentation/\n",
            "BSR/documentation/Arbelaez_Maire_Fowlkes_Malik_TPAMI2010.pdf\n",
            "BSR/bench/\n",
            "BSR/bench/source/\n",
            "BSR/bench/source/match.hh\n",
            "BSR/bench/source/Matrix.cc\n",
            "BSR/bench/source/Timer.cc\n",
            "BSR/bench/source/csa_types.h\n",
            "BSR/bench/source/csa.cc\n",
            "BSR/bench/source/correspondPixels.cc\n",
            "BSR/bench/source/build.sh\n",
            "BSR/bench/source/match.cc\n",
            "BSR/bench/source/Sort.hh\n",
            "BSR/bench/source/csa_defs.h\n",
            "BSR/bench/source/Timer.hh\n",
            "BSR/bench/source/Exception.cc\n",
            "BSR/bench/source/String.cc\n",
            "BSR/bench/source/Array.hh\n",
            "BSR/bench/source/kofn.hh\n",
            "BSR/bench/source/Random.hh\n",
            "BSR/bench/source/Exception.hh\n",
            "BSR/bench/source/.gitignore\n",
            "BSR/bench/source/kofn.cc\n",
            "BSR/bench/source/build.m\n",
            "BSR/bench/source/Random.cc\n",
            "BSR/bench/source/Point.hh\n",
            "BSR/bench/source/README\n",
            "BSR/bench/source/Matrix.hh\n",
            "BSR/bench/source/csa.hh\n",
            "BSR/bench/source/String.hh\n",
            "BSR/bench/bench_bsds500.m\n",
            "BSR/bench/data/\n",
            "BSR/bench/data/groundTruth/\n",
            "BSR/bench/data/groundTruth/6046.mat\n",
            "BSR/bench/data/groundTruth/2018.mat\n",
            "BSR/bench/data/groundTruth/8068.mat\n",
            "BSR/bench/data/groundTruth/5096.mat\n",
            "BSR/bench/data/groundTruth/3063.mat\n",
            "BSR/bench/data/segs/\n",
            "BSR/bench/data/segs/6046.mat\n",
            "BSR/bench/data/segs/2018.mat\n",
            "BSR/bench/data/segs/8068.mat\n",
            "BSR/bench/data/segs/5096.mat\n",
            "BSR/bench/data/segs/3063.mat\n",
            "BSR/bench/data/test_2/\n",
            "BSR/bench/data/test_2/eval_bdry.txt\n",
            "BSR/bench/data/test_2/eval_bdry_img.txt\n",
            "BSR/bench/data/test_2/eval_bdry_thr.txt\n",
            "BSR/bench/data/test_5/\n",
            "BSR/bench/data/test_5/eval_RI_VOI.txt\n",
            "BSR/bench/data/test_5/eval_cover_img.txt\n",
            "BSR/bench/data/test_5/eval_cover_th.txt\n",
            "BSR/bench/data/test_5/eval_cover.txt\n",
            "BSR/bench/data/test_5/eval_RI_VOI_thr.txt\n",
            "BSR/bench/data/ucm2/\n",
            "BSR/bench/data/ucm2/6046.mat\n",
            "BSR/bench/data/ucm2/2018.mat\n",
            "BSR/bench/data/ucm2/8068.mat\n",
            "BSR/bench/data/ucm2/5096.mat\n",
            "BSR/bench/data/ucm2/3063.mat\n",
            "BSR/bench/data/test_3/\n",
            "BSR/bench/data/test_3/eval_bdry.txt\n",
            "BSR/bench/data/test_3/eval_bdry_img.txt\n",
            "BSR/bench/data/test_3/eval_bdry_thr.txt\n",
            "BSR/bench/data/png/\n",
            "BSR/bench/data/png/5096.png\n",
            "BSR/bench/data/png/6046.png\n",
            "BSR/bench/data/png/8068.png\n",
            "BSR/bench/data/png/2018.png\n",
            "BSR/bench/data/png/3063.png\n",
            "BSR/bench/data/images/\n",
            "BSR/bench/data/images/2018.jpg\n",
            "BSR/bench/data/images/5096.jpg\n",
            "BSR/bench/data/images/3063.jpg\n",
            "BSR/bench/data/images/8068.jpg\n",
            "BSR/bench/data/images/6046.jpg\n",
            "BSR/bench/data/test_1/\n",
            "BSR/bench/data/test_1/eval_RI_VOI.txt\n",
            "BSR/bench/data/test_1/eval_cover_img.txt\n",
            "BSR/bench/data/test_1/eval_bdry.txt\n",
            "BSR/bench/data/test_1/eval_bdry_img.txt\n",
            "BSR/bench/data/test_1/eval_cover_th.txt\n",
            "BSR/bench/data/test_1/eval_cover.txt\n",
            "BSR/bench/data/test_1/eval_bdry_thr.txt\n",
            "BSR/bench/data/test_1/eval_RI_VOI_thr.txt\n",
            "BSR/bench/data/test_4/\n",
            "BSR/bench/data/test_4/eval_RI_VOI.txt\n",
            "BSR/bench/data/test_4/eval_cover_img.txt\n",
            "BSR/bench/data/test_4/eval_bdry.txt\n",
            "BSR/bench/data/test_4/eval_bdry_img.txt\n",
            "BSR/bench/data/test_4/eval_cover_th.txt\n",
            "BSR/bench/data/test_4/eval_cover.txt\n",
            "BSR/bench/data/test_4/eval_bdry_thr.txt\n",
            "BSR/bench/data/test_4/eval_RI_VOI_thr.txt\n",
            "BSR/bench/test_benchs.m\n",
            "BSR/bench/benchmarks/\n",
            "BSR/bench/benchmarks/match_segmentations.m\n",
            "BSR/bench/benchmarks/match_segmentations2.m\n",
            "BSR/bench/benchmarks/collect_eval_bdry.m\n",
            "BSR/bench/benchmarks/create_isoF_figure.m\n",
            "BSR/bench/benchmarks/seg2bdry.m\n",
            "BSR/bench/benchmarks/boundaryBench.m\n",
            "BSR/bench/benchmarks/correspondPixels.mexa64\n",
            "BSR/bench/benchmarks/regionBench.m\n",
            "BSR/bench/benchmarks/isoF.fig\n",
            "BSR/bench/benchmarks/evaluation_bdry_image.m\n",
            "BSR/bench/benchmarks/correspondPixels.m\n",
            "BSR/bench/benchmarks/allBench.m\n",
            "BSR/bench/benchmarks/plot_eval.m\n",
            "BSR/bench/benchmarks/collect_eval_reg.m\n",
            "BSR/bench/benchmarks/evaluation_reg_image.m\n",
            "BSR/BSDS500/\n",
            "BSR/BSDS500/data/\n",
            "BSR/BSDS500/data/groundTruth/\n",
            "BSR/BSDS500/data/groundTruth/train/\n",
            "BSR/BSDS500/data/groundTruth/train/196015.mat\n",
            "BSR/BSDS500/data/groundTruth/train/65132.mat\n",
            "BSR/BSDS500/data/groundTruth/train/189011.mat\n",
            "BSR/BSDS500/data/groundTruth/train/92059.mat\n",
            "BSR/BSDS500/data/groundTruth/train/178054.mat\n",
            "BSR/BSDS500/data/groundTruth/train/156079.mat\n",
            "BSR/BSDS500/data/groundTruth/train/254033.mat\n",
            "BSR/BSDS500/data/groundTruth/train/271008.mat\n",
            "BSR/BSDS500/data/groundTruth/train/65010.mat\n",
            "BSR/BSDS500/data/groundTruth/train/216041.mat\n",
            "BSR/BSDS500/data/groundTruth/train/159045.mat\n",
            "BSR/BSDS500/data/groundTruth/train/104022.mat\n",
            "BSR/BSDS500/data/groundTruth/train/247085.mat\n",
            "BSR/BSDS500/data/groundTruth/train/20008.mat\n",
            "BSR/BSDS500/data/groundTruth/train/42078.mat\n",
            "BSR/BSDS500/data/groundTruth/train/23080.mat\n",
            "BSR/BSDS500/data/groundTruth/train/311068.mat\n",
            "BSR/BSDS500/data/groundTruth/train/35070.mat\n",
            "BSR/BSDS500/data/groundTruth/train/94079.mat\n",
            "BSR/BSDS500/data/groundTruth/train/71046.mat\n",
            "BSR/BSDS500/data/groundTruth/train/112082.mat\n",
            "BSR/BSDS500/data/groundTruth/train/236017.mat\n",
            "BSR/BSDS500/data/groundTruth/train/198023.mat\n",
            "BSR/BSDS500/data/groundTruth/train/43070.mat\n",
            "BSR/BSDS500/data/groundTruth/train/60079.mat\n",
            "BSR/BSDS500/data/groundTruth/train/323016.mat\n",
            "BSR/BSDS500/data/groundTruth/train/187039.mat\n",
            "BSR/BSDS500/data/groundTruth/train/35008.mat\n",
            "BSR/BSDS500/data/groundTruth/train/172032.mat\n",
            "BSR/BSDS500/data/groundTruth/train/301007.mat\n",
            "BSR/BSDS500/data/groundTruth/train/202012.mat\n",
            "BSR/BSDS500/data/groundTruth/train/130034.mat\n",
            "BSR/BSDS500/data/groundTruth/train/368016.mat\n",
            "BSR/BSDS500/data/groundTruth/train/183087.mat\n",
            "BSR/BSDS500/data/groundTruth/train/23084.mat\n",
            "BSR/BSDS500/data/groundTruth/train/90076.mat\n",
            "BSR/BSDS500/data/groundTruth/train/12074.mat\n",
            "BSR/BSDS500/data/groundTruth/train/374020.mat\n",
            "BSR/BSDS500/data/groundTruth/train/249061.mat\n",
            "BSR/BSDS500/data/groundTruth/train/246016.mat\n",
            "BSR/BSDS500/data/groundTruth/train/113016.mat\n",
            "BSR/BSDS500/data/groundTruth/train/134008.mat\n",
            "BSR/BSDS500/data/groundTruth/train/176019.mat\n",
            "BSR/BSDS500/data/groundTruth/train/161062.mat\n",
            "BSR/BSDS500/data/groundTruth/train/271031.mat\n",
            "BSR/BSDS500/data/groundTruth/train/103041.mat\n",
            "BSR/BSDS500/data/groundTruth/train/43083.mat\n",
            "BSR/BSDS500/data/groundTruth/train/365025.mat\n",
            "BSR/BSDS500/data/groundTruth/train/24063.mat\n",
            "BSR/BSDS500/data/groundTruth/train/376001.mat\n",
            "BSR/BSDS500/data/groundTruth/train/225017.mat\n",
            "BSR/BSDS500/data/groundTruth/train/65019.mat\n",
            "BSR/BSDS500/data/groundTruth/train/181018.mat\n",
            "BSR/BSDS500/data/groundTruth/train/124084.mat\n",
            "BSR/BSDS500/data/groundTruth/train/188005.mat\n",
            "BSR/BSDS500/data/groundTruth/train/246053.mat\n",
            "BSR/BSDS500/data/groundTruth/train/122048.mat\n",
            "BSR/BSDS500/data/groundTruth/train/361084.mat\n",
            "BSR/BSDS500/data/groundTruth/train/260081.mat\n",
            "BSR/BSDS500/data/groundTruth/train/8143.mat\n",
            "BSR/BSDS500/data/groundTruth/train/245051.mat\n",
            "BSR/BSDS500/data/groundTruth/train/126039.mat\n",
            "BSR/BSDS500/data/groundTruth/train/187071.mat\n",
            "BSR/BSDS500/data/groundTruth/train/302003.mat\n",
            "BSR/BSDS500/data/groundTruth/train/61086.mat\n",
            "BSR/BSDS500/data/groundTruth/train/388016.mat\n",
            "BSR/BSDS500/data/groundTruth/train/166081.mat\n",
            "BSR/BSDS500/data/groundTruth/train/35058.mat\n",
            "BSR/BSDS500/data/groundTruth/train/372047.mat\n",
            "BSR/BSDS500/data/groundTruth/train/314016.mat\n",
            "BSR/BSDS500/data/groundTruth/train/181091.mat\n",
            "BSR/BSDS500/data/groundTruth/train/106020.mat\n",
            "BSR/BSDS500/data/groundTruth/train/67079.mat\n",
            "BSR/BSDS500/data/groundTruth/train/310007.mat\n",
            "BSR/BSDS500/data/groundTruth/train/2092.mat\n",
            "BSR/BSDS500/data/groundTruth/train/117054.mat\n",
            "BSR/BSDS500/data/groundTruth/train/159029.mat\n",
            "BSR/BSDS500/data/groundTruth/train/97017.mat\n",
            "BSR/BSDS500/data/groundTruth/train/140055.mat\n",
            "BSR/BSDS500/data/groundTruth/train/134052.mat\n",
            "BSR/BSDS500/data/groundTruth/train/41025.mat\n",
            "BSR/BSDS500/data/groundTruth/train/183055.mat\n",
            "BSR/BSDS500/data/groundTruth/train/23025.mat\n",
            "BSR/BSDS500/data/groundTruth/train/28096.mat\n",
            "BSR/BSDS500/data/groundTruth/train/173036.mat\n",
            "BSR/BSDS500/data/groundTruth/train/353013.mat\n",
            "BSR/BSDS500/data/groundTruth/train/55067.mat\n",
            "BSR/BSDS500/data/groundTruth/train/56028.mat\n",
            "BSR/BSDS500/data/groundTruth/train/368078.mat\n",
            "BSR/BSDS500/data/groundTruth/train/147062.mat\n",
            "BSR/BSDS500/data/groundTruth/train/227046.mat\n",
            "BSR/BSDS500/data/groundTruth/train/370036.mat\n",
            "BSR/BSDS500/data/groundTruth/train/61060.mat\n",
            "BSR/BSDS500/data/groundTruth/train/311081.mat\n",
            "BSR/BSDS500/data/groundTruth/train/35091.mat\n",
            "BSR/BSDS500/data/groundTruth/train/309004.mat\n",
            "BSR/BSDS500/data/groundTruth/train/299091.mat\n",
            "BSR/BSDS500/data/groundTruth/train/151087.mat\n",
            "BSR/BSDS500/data/groundTruth/train/155060.mat\n",
            "BSR/BSDS500/data/groundTruth/train/144067.mat\n",
            "BSR/BSDS500/data/groundTruth/train/374067.mat\n",
            "BSR/BSDS500/data/groundTruth/train/189003.mat\n",
            "BSR/BSDS500/data/groundTruth/train/188091.mat\n",
            "BSR/BSDS500/data/groundTruth/train/153077.mat\n",
            "BSR/BSDS500/data/groundTruth/train/76002.mat\n",
            "BSR/BSDS500/data/groundTruth/train/277095.mat\n",
            "BSR/BSDS500/data/groundTruth/train/207056.mat\n",
            "BSR/BSDS500/data/groundTruth/train/286092.mat\n",
            "BSR/BSDS500/data/groundTruth/train/145053.mat\n",
            "BSR/BSDS500/data/groundTruth/train/157036.mat\n",
            "BSR/BSDS500/data/groundTruth/train/138032.mat\n",
            "BSR/BSDS500/data/groundTruth/train/242078.mat\n",
            "BSR/BSDS500/data/groundTruth/train/176039.mat\n",
            "BSR/BSDS500/data/groundTruth/train/163014.mat\n",
            "BSR/BSDS500/data/groundTruth/train/376020.mat\n",
            "BSR/BSDS500/data/groundTruth/train/12003.mat\n",
            "BSR/BSDS500/data/groundTruth/train/140075.mat\n",
            "BSR/BSDS500/data/groundTruth/train/249087.mat\n",
            "BSR/BSDS500/data/groundTruth/train/109034.mat\n",
            "BSR/BSDS500/data/groundTruth/train/293029.mat\n",
            "BSR/BSDS500/data/groundTruth/train/45077.mat\n",
            "BSR/BSDS500/data/groundTruth/train/326038.mat\n",
            "BSR/BSDS500/data/groundTruth/train/42044.mat\n",
            "BSR/BSDS500/data/groundTruth/train/138078.mat\n",
            "BSR/BSDS500/data/groundTruth/train/48055.mat\n",
            "BSR/BSDS500/data/groundTruth/train/159091.mat\n",
            "BSR/BSDS500/data/groundTruth/train/100075.mat\n",
            "BSR/BSDS500/data/groundTruth/train/59078.mat\n",
            "BSR/BSDS500/data/groundTruth/train/268002.mat\n",
            "BSR/BSDS500/data/groundTruth/train/365073.mat\n",
            "BSR/BSDS500/data/groundTruth/train/181079.mat\n",
            "BSR/BSDS500/data/groundTruth/train/105053.mat\n",
            "BSR/BSDS500/data/groundTruth/train/95006.mat\n",
            "BSR/BSDS500/data/groundTruth/train/232038.mat\n",
            "BSR/BSDS500/data/groundTruth/train/118035.mat\n",
            "BSR/BSDS500/data/groundTruth/train/163062.mat\n",
            "BSR/BSDS500/data/groundTruth/train/274007.mat\n",
            "BSR/BSDS500/data/groundTruth/train/187003.mat\n",
            "BSR/BSDS500/data/groundTruth/train/216053.mat\n",
            "BSR/BSDS500/data/groundTruth/train/187029.mat\n",
            "BSR/BSDS500/data/groundTruth/train/100098.mat\n",
            "BSR/BSDS500/data/groundTruth/train/254054.mat\n",
            "BSR/BSDS500/data/groundTruth/train/238011.mat\n",
            "BSR/BSDS500/data/groundTruth/train/46076.mat\n",
            "BSR/BSDS500/data/groundTruth/train/65074.mat\n",
            "BSR/BSDS500/data/groundTruth/train/169012.mat\n",
            "BSR/BSDS500/data/groundTruth/train/41004.mat\n",
            "BSR/BSDS500/data/groundTruth/train/106025.mat\n",
            "BSR/BSDS500/data/groundTruth/train/118020.mat\n",
            "BSR/BSDS500/data/groundTruth/train/15088.mat\n",
            "BSR/BSDS500/data/groundTruth/train/292066.mat\n",
            "BSR/BSDS500/data/groundTruth/train/227040.mat\n",
            "BSR/BSDS500/data/groundTruth/train/239007.mat\n",
            "BSR/BSDS500/data/groundTruth/train/54005.mat\n",
            "BSR/BSDS500/data/groundTruth/train/26031.mat\n",
            "BSR/BSDS500/data/groundTruth/train/100080.mat\n",
            "BSR/BSDS500/data/groundTruth/train/176035.mat\n",
            "BSR/BSDS500/data/groundTruth/train/24004.mat\n",
            "BSR/BSDS500/data/groundTruth/train/187083.mat\n",
            "BSR/BSDS500/data/groundTruth/train/147021.mat\n",
            "BSR/BSDS500/data/groundTruth/train/66075.mat\n",
            "BSR/BSDS500/data/groundTruth/train/78019.mat\n",
            "BSR/BSDS500/data/groundTruth/train/113044.mat\n",
            "BSR/BSDS500/data/groundTruth/train/87065.mat\n",
            "BSR/BSDS500/data/groundTruth/train/253036.mat\n",
            "BSR/BSDS500/data/groundTruth/train/164074.mat\n",
            "BSR/BSDS500/data/groundTruth/train/113009.mat\n",
            "BSR/BSDS500/data/groundTruth/train/55075.mat\n",
            "BSR/BSDS500/data/groundTruth/train/25098.mat\n",
            "BSR/BSDS500/data/groundTruth/train/68077.mat\n",
            "BSR/BSDS500/data/groundTruth/train/108041.mat\n",
            "BSR/BSDS500/data/groundTruth/train/153093.mat\n",
            "BSR/BSDS500/data/groundTruth/train/135069.mat\n",
            "BSR/BSDS500/data/groundTruth/train/15004.mat\n",
            "BSR/BSDS500/data/groundTruth/train/33066.mat\n",
            "BSR/BSDS500/data/groundTruth/train/239096.mat\n",
            "BSR/BSDS500/data/groundTruth/train/170054.mat\n",
            "BSR/BSDS500/data/groundTruth/train/16052.mat\n",
            "BSR/BSDS500/data/groundTruth/train/317080.mat\n",
            "BSR/BSDS500/data/groundTruth/train/80099.mat\n",
            "BSR/BSDS500/data/groundTruth/train/209070.mat\n",
            "BSR/BSDS500/data/groundTruth/train/231015.mat\n",
            "BSR/BSDS500/data/groundTruth/train/198004.mat\n",
            "BSR/BSDS500/data/groundTruth/train/385028.mat\n",
            "BSR/BSDS500/data/groundTruth/train/285036.mat\n",
            "BSR/BSDS500/data/groundTruth/train/35010.mat\n",
            "BSR/BSDS500/data/groundTruth/train/108073.mat\n",
            "BSR/BSDS500/data/groundTruth/train/198054.mat\n",
            "BSR/BSDS500/data/groundTruth/train/22093.mat\n",
            "BSR/BSDS500/data/groundTruth/train/28075.mat\n",
            "BSR/BSDS500/data/groundTruth/train/145014.mat\n",
            "BSR/BSDS500/data/groundTruth/train/66039.mat\n",
            "BSR/BSDS500/data/groundTruth/train/188063.mat\n",
            "BSR/BSDS500/data/groundTruth/train/8049.mat\n",
            "BSR/BSDS500/data/groundTruth/train/105019.mat\n",
            "BSR/BSDS500/data/groundTruth/train/27059.mat\n",
            "BSR/BSDS500/data/groundTruth/train/22090.mat\n",
            "BSR/BSDS500/data/groundTruth/train/22013.mat\n",
            "BSR/BSDS500/data/groundTruth/train/135037.mat\n",
            "BSR/BSDS500/data/groundTruth/train/216066.mat\n",
            "BSR/BSDS500/data/groundTruth/val/\n",
            "BSR/BSDS500/data/groundTruth/val/223061.mat\n",
            "BSR/BSDS500/data/groundTruth/val/38082.mat\n",
            "BSR/BSDS500/data/groundTruth/val/106024.mat\n",
            "BSR/BSDS500/data/groundTruth/val/86068.mat\n",
            "BSR/BSDS500/data/groundTruth/val/197017.mat\n",
            "BSR/BSDS500/data/groundTruth/val/260058.mat\n",
            "BSR/BSDS500/data/groundTruth/val/157055.mat\n",
            "BSR/BSDS500/data/groundTruth/val/189080.mat\n",
            "BSR/BSDS500/data/groundTruth/val/86000.mat\n",
            "BSR/BSDS500/data/groundTruth/val/167062.mat\n",
            "BSR/BSDS500/data/groundTruth/val/302008.mat\n",
            "BSR/BSDS500/data/groundTruth/val/156065.mat\n",
            "BSR/BSDS500/data/groundTruth/val/291000.mat\n",
            "BSR/BSDS500/data/groundTruth/val/12084.mat\n",
            "BSR/BSDS500/data/groundTruth/val/241048.mat\n",
            "BSR/BSDS500/data/groundTruth/val/175043.mat\n",
            "BSR/BSDS500/data/groundTruth/val/175032.mat\n",
            "BSR/BSDS500/data/groundTruth/val/208001.mat\n",
            "BSR/BSDS500/data/groundTruth/val/126007.mat\n",
            "BSR/BSDS500/data/groundTruth/val/21077.mat\n",
            "BSR/BSDS500/data/groundTruth/val/102061.mat\n",
            "BSR/BSDS500/data/groundTruth/val/304074.mat\n",
            "BSR/BSDS500/data/groundTruth/val/42049.mat\n",
            "BSR/BSDS500/data/groundTruth/val/109053.mat\n",
            "BSR/BSDS500/data/groundTruth/val/143090.mat\n",
            "BSR/BSDS500/data/groundTruth/val/14037.mat\n",
            "BSR/BSDS500/data/groundTruth/val/300091.mat\n",
            "BSR/BSDS500/data/groundTruth/val/24077.mat\n",
            "BSR/BSDS500/data/groundTruth/val/105025.mat\n",
            "BSR/BSDS500/data/groundTruth/val/58060.mat\n",
            "BSR/BSDS500/data/groundTruth/val/147091.mat\n",
            "BSR/BSDS500/data/groundTruth/val/241004.mat\n",
            "BSR/BSDS500/data/groundTruth/val/285079.mat\n",
            "BSR/BSDS500/data/groundTruth/val/182053.mat\n",
            "BSR/BSDS500/data/groundTruth/val/87046.mat\n",
            "BSR/BSDS500/data/groundTruth/val/196073.mat\n",
            "BSR/BSDS500/data/groundTruth/val/108005.mat\n",
            "BSR/BSDS500/data/groundTruth/val/220075.mat\n",
            "BSR/BSDS500/data/groundTruth/val/361010.mat\n",
            "BSR/BSDS500/data/groundTruth/val/148026.mat\n",
            "BSR/BSDS500/data/groundTruth/val/69015.mat\n",
            "BSR/BSDS500/data/groundTruth/val/295087.mat\n",
            "BSR/BSDS500/data/groundTruth/val/33039.mat\n",
            "BSR/BSDS500/data/groundTruth/val/42012.mat\n",
            "BSR/BSDS500/data/groundTruth/val/16077.mat\n",
            "BSR/BSDS500/data/groundTruth/val/45096.mat\n",
            "BSR/BSDS500/data/groundTruth/val/148089.mat\n",
            "BSR/BSDS500/data/groundTruth/val/76053.mat\n",
            "BSR/BSDS500/data/groundTruth/val/229036.mat\n",
            "BSR/BSDS500/data/groundTruth/val/296059.mat\n",
            "BSR/BSDS500/data/groundTruth/val/376043.mat\n",
            "BSR/BSDS500/data/groundTruth/val/89072.mat\n",
            "BSR/BSDS500/data/groundTruth/val/69040.mat\n",
            "BSR/BSDS500/data/groundTruth/val/160068.mat\n",
            "BSR/BSDS500/data/groundTruth/val/351093.mat\n",
            "BSR/BSDS500/data/groundTruth/val/43074.mat\n",
            "BSR/BSDS500/data/groundTruth/val/97033.mat\n",
            "BSR/BSDS500/data/groundTruth/val/41069.mat\n",
            "BSR/BSDS500/data/groundTruth/val/130026.mat\n",
            "BSR/BSDS500/data/groundTruth/val/101085.mat\n",
            "BSR/BSDS500/data/groundTruth/val/69020.mat\n",
            "BSR/BSDS500/data/groundTruth/val/167083.mat\n",
            "BSR/BSDS500/data/groundTruth/val/385039.mat\n",
            "BSR/BSDS500/data/groundTruth/val/145086.mat\n",
            "BSR/BSDS500/data/groundTruth/val/108082.mat\n",
            "BSR/BSDS500/data/groundTruth/val/65033.mat\n",
            "BSR/BSDS500/data/groundTruth/val/101087.mat\n",
            "BSR/BSDS500/data/groundTruth/val/103070.mat\n",
            "BSR/BSDS500/data/groundTruth/val/227092.mat\n",
            "BSR/BSDS500/data/groundTruth/val/108070.mat\n",
            "BSR/BSDS500/data/groundTruth/val/134035.mat\n",
            "BSR/BSDS500/data/groundTruth/val/216081.mat\n",
            "BSR/BSDS500/data/groundTruth/val/85048.mat\n",
            "BSR/BSDS500/data/groundTruth/val/119082.mat\n",
            "BSR/BSDS500/data/groundTruth/val/62096.mat\n",
            "BSR/BSDS500/data/groundTruth/val/3096.mat\n",
            "BSR/BSDS500/data/groundTruth/val/253055.mat\n",
            "BSR/BSDS500/data/groundTruth/val/170057.mat\n",
            "BSR/BSDS500/data/groundTruth/val/299086.mat\n",
            "BSR/BSDS500/data/groundTruth/val/54082.mat\n",
            "BSR/BSDS500/data/groundTruth/val/123074.mat\n",
            "BSR/BSDS500/data/groundTruth/val/219090.mat\n",
            "BSR/BSDS500/data/groundTruth/val/210088.mat\n",
            "BSR/BSDS500/data/groundTruth/val/304034.mat\n",
            "BSR/BSDS500/data/groundTruth/val/271035.mat\n",
            "BSR/BSDS500/data/groundTruth/val/78004.mat\n",
            "BSR/BSDS500/data/groundTruth/val/163085.mat\n",
            "BSR/BSDS500/data/groundTruth/val/236037.mat\n",
            "BSR/BSDS500/data/groundTruth/val/38092.mat\n",
            "BSR/BSDS500/data/groundTruth/val/66053.mat\n",
            "BSR/BSDS500/data/groundTruth/val/55073.mat\n",
            "BSR/BSDS500/data/groundTruth/val/19021.mat\n",
            "BSR/BSDS500/data/groundTruth/val/86016.mat\n",
            "BSR/BSDS500/data/groundTruth/val/253027.mat\n",
            "BSR/BSDS500/data/groundTruth/val/159008.mat\n",
            "BSR/BSDS500/data/groundTruth/val/41033.mat\n",
            "BSR/BSDS500/data/groundTruth/val/8023.mat\n",
            "BSR/BSDS500/data/groundTruth/val/37073.mat\n",
            "BSR/BSDS500/data/groundTruth/val/296007.mat\n",
            "BSR/BSDS500/data/groundTruth/val/306005.mat\n",
            "BSR/BSDS500/data/groundTruth/test/\n",
            "BSR/BSDS500/data/groundTruth/test/70090.mat\n",
            "BSR/BSDS500/data/groundTruth/test/41085.mat\n",
            "BSR/BSDS500/data/groundTruth/test/196062.mat\n",
            "BSR/BSDS500/data/groundTruth/test/346016.mat\n",
            "BSR/BSDS500/data/groundTruth/test/176051.mat\n",
            "BSR/BSDS500/data/groundTruth/test/393035.mat\n",
            "BSR/BSDS500/data/groundTruth/test/246009.mat\n",
            "BSR/BSDS500/data/groundTruth/test/249021.mat\n",
            "BSR/BSDS500/data/groundTruth/test/225022.mat\n",
            "BSR/BSDS500/data/groundTruth/test/112056.mat\n",
            "BSR/BSDS500/data/groundTruth/test/104055.mat\n",
            "BSR/BSDS500/data/groundTruth/test/238025.mat\n",
            "BSR/BSDS500/data/groundTruth/test/368037.mat\n",
            "BSR/BSDS500/data/groundTruth/test/105027.mat\n",
            "BSR/BSDS500/data/groundTruth/test/118015.mat\n",
            "BSR/BSDS500/data/groundTruth/test/71076.mat\n",
            "BSR/BSDS500/data/groundTruth/test/163004.mat\n",
            "BSR/BSDS500/data/groundTruth/test/288024.mat\n",
            "BSR/BSDS500/data/groundTruth/test/253092.mat\n",
            "BSR/BSDS500/data/groundTruth/test/258089.mat\n",
            "BSR/BSDS500/data/groundTruth/test/6046.mat\n",
            "BSR/BSDS500/data/groundTruth/test/253016.mat\n",
            "BSR/BSDS500/data/groundTruth/test/187099.mat\n",
            "BSR/BSDS500/data/groundTruth/test/157087.mat\n",
            "BSR/BSDS500/data/groundTruth/test/104010.mat\n",
            "BSR/BSDS500/data/groundTruth/test/189029.mat\n",
            "BSR/BSDS500/data/groundTruth/test/70011.mat\n",
            "BSR/BSDS500/data/groundTruth/test/163096.mat\n",
            "BSR/BSDS500/data/groundTruth/test/290035.mat\n",
            "BSR/BSDS500/data/groundTruth/test/232076.mat\n",
            "BSR/BSDS500/data/groundTruth/test/103006.mat\n",
            "BSR/BSDS500/data/groundTruth/test/247003.mat\n",
            "BSR/BSDS500/data/groundTruth/test/43051.mat\n",
            "BSR/BSDS500/data/groundTruth/test/181021.mat\n",
            "BSR/BSDS500/data/groundTruth/test/33044.mat\n",
            "BSR/BSDS500/data/groundTruth/test/296058.mat\n",
            "BSR/BSDS500/data/groundTruth/test/306051.mat\n",
            "BSR/BSDS500/data/groundTruth/test/118031.mat\n",
            "BSR/BSDS500/data/groundTruth/test/198087.mat\n",
            "BSR/BSDS500/data/groundTruth/test/106005.mat\n",
            "BSR/BSDS500/data/groundTruth/test/277053.mat\n",
            "BSR/BSDS500/data/groundTruth/test/209021.mat\n",
            "BSR/BSDS500/data/groundTruth/test/289011.mat\n",
            "BSR/BSDS500/data/groundTruth/test/160006.mat\n",
            "BSR/BSDS500/data/groundTruth/test/130066.mat\n",
            "BSR/BSDS500/data/groundTruth/test/146074.mat\n",
            "BSR/BSDS500/data/groundTruth/test/228076.mat\n",
            "BSR/BSDS500/data/groundTruth/test/78098.mat\n",
            "BSR/BSDS500/data/groundTruth/test/223060.mat\n",
            "BSR/BSDS500/data/groundTruth/test/247012.mat\n",
            "BSR/BSDS500/data/groundTruth/test/92014.mat\n",
            "BSR/BSDS500/data/groundTruth/test/71099.mat\n",
            "BSR/BSDS500/data/groundTruth/test/130014.mat\n",
            "BSR/BSDS500/data/groundTruth/test/296028.mat\n",
            "BSR/BSDS500/data/groundTruth/test/372019.mat\n",
            "BSR/BSDS500/data/groundTruth/test/64061.mat\n",
            "BSR/BSDS500/data/groundTruth/test/156054.mat\n",
            "BSR/BSDS500/data/groundTruth/test/80085.mat\n",
            "BSR/BSDS500/data/groundTruth/test/147077.mat\n",
            "BSR/BSDS500/data/groundTruth/test/250047.mat\n",
            "BSR/BSDS500/data/groundTruth/test/335088.mat\n",
            "BSR/BSDS500/data/groundTruth/test/259060.mat\n",
            "BSR/BSDS500/data/groundTruth/test/10081.mat\n",
            "BSR/BSDS500/data/groundTruth/test/385022.mat\n",
            "BSR/BSDS500/data/groundTruth/test/268074.mat\n",
            "BSR/BSDS500/data/groundTruth/test/2018.mat\n",
            "BSR/BSDS500/data/groundTruth/test/179084.mat\n",
            "BSR/BSDS500/data/groundTruth/test/48017.mat\n",
            "BSR/BSDS500/data/groundTruth/test/220003.mat\n",
            "BSR/BSDS500/data/groundTruth/test/41096.mat\n",
            "BSR/BSDS500/data/groundTruth/test/100099.mat\n",
            "BSR/BSDS500/data/groundTruth/test/335094.mat\n",
            "BSR/BSDS500/data/groundTruth/test/45000.mat\n",
            "BSR/BSDS500/data/groundTruth/test/35028.mat\n",
            "BSR/BSDS500/data/groundTruth/test/141012.mat\n",
            "BSR/BSDS500/data/groundTruth/test/48025.mat\n",
            "BSR/BSDS500/data/groundTruth/test/102062.mat\n",
            "BSR/BSDS500/data/groundTruth/test/23050.mat\n",
            "BSR/BSDS500/data/groundTruth/test/117025.mat\n",
            "BSR/BSDS500/data/groundTruth/test/128035.mat\n",
            "BSR/BSDS500/data/groundTruth/test/51084.mat\n",
            "BSR/BSDS500/data/groundTruth/test/230063.mat\n",
            "BSR/BSDS500/data/groundTruth/test/187058.mat\n",
            "BSR/BSDS500/data/groundTruth/test/334025.mat\n",
            "BSR/BSDS500/data/groundTruth/test/101084.mat\n",
            "BSR/BSDS500/data/groundTruth/test/69007.mat\n",
            "BSR/BSDS500/data/groundTruth/test/388018.mat\n",
            "BSR/BSDS500/data/groundTruth/test/101027.mat\n",
            "BSR/BSDS500/data/groundTruth/test/14092.mat\n",
            "BSR/BSDS500/data/groundTruth/test/49024.mat\n",
            "BSR/BSDS500/data/groundTruth/test/326085.mat\n",
            "BSR/BSDS500/data/groundTruth/test/36046.mat\n",
            "BSR/BSDS500/data/groundTruth/test/196088.mat\n",
            "BSR/BSDS500/data/groundTruth/test/97010.mat\n",
            "BSR/BSDS500/data/groundTruth/test/189006.mat\n",
            "BSR/BSDS500/data/groundTruth/test/306052.mat\n",
            "BSR/BSDS500/data/groundTruth/test/107072.mat\n",
            "BSR/BSDS500/data/groundTruth/test/77062.mat\n",
            "BSR/BSDS500/data/groundTruth/test/189013.mat\n",
            "BSR/BSDS500/data/groundTruth/test/317043.mat\n",
            "BSR/BSDS500/data/groundTruth/test/8068.mat\n",
            "BSR/BSDS500/data/groundTruth/test/134067.mat\n",
            "BSR/BSDS500/data/groundTruth/test/302022.mat\n",
            "BSR/BSDS500/data/groundTruth/test/206062.mat\n",
            "BSR/BSDS500/data/groundTruth/test/226060.mat\n",
            "BSR/BSDS500/data/groundTruth/test/226033.mat\n",
            "BSR/BSDS500/data/groundTruth/test/243095.mat\n",
            "BSR/BSDS500/data/groundTruth/test/175083.mat\n",
            "BSR/BSDS500/data/groundTruth/test/250087.mat\n",
            "BSR/BSDS500/data/groundTruth/test/20069.mat\n",
            "BSR/BSDS500/data/groundTruth/test/279005.mat\n",
            "BSR/BSDS500/data/groundTruth/test/257098.mat\n",
            "BSR/BSDS500/data/groundTruth/test/61034.mat\n",
            "BSR/BSDS500/data/groundTruth/test/69022.mat\n",
            "BSR/BSDS500/data/groundTruth/test/16068.mat\n",
            "BSR/BSDS500/data/groundTruth/test/14085.mat\n",
            "BSR/BSDS500/data/groundTruth/test/15011.mat\n",
            "BSR/BSDS500/data/groundTruth/test/134049.mat\n",
            "BSR/BSDS500/data/groundTruth/test/230098.mat\n",
            "BSR/BSDS500/data/groundTruth/test/100007.mat\n",
            "BSR/BSDS500/data/groundTruth/test/81066.mat\n",
            "BSR/BSDS500/data/groundTruth/test/35049.mat\n",
            "BSR/BSDS500/data/groundTruth/test/347031.mat\n",
            "BSR/BSDS500/data/groundTruth/test/217013.mat\n",
            "BSR/BSDS500/data/groundTruth/test/41029.mat\n",
            "BSR/BSDS500/data/groundTruth/test/81090.mat\n",
            "BSR/BSDS500/data/groundTruth/test/168084.mat\n",
            "BSR/BSDS500/data/groundTruth/test/388006.mat\n",
            "BSR/BSDS500/data/groundTruth/test/344010.mat\n",
            "BSR/BSDS500/data/groundTruth/test/123057.mat\n",
            "BSR/BSDS500/data/groundTruth/test/201080.mat\n",
            "BSR/BSDS500/data/groundTruth/test/79073.mat\n",
            "BSR/BSDS500/data/groundTruth/test/183066.mat\n",
            "BSR/BSDS500/data/groundTruth/test/185092.mat\n",
            "BSR/BSDS500/data/groundTruth/test/157032.mat\n",
            "BSR/BSDS500/data/groundTruth/test/5096.mat\n",
            "BSR/BSDS500/data/groundTruth/test/208078.mat\n",
            "BSR/BSDS500/data/groundTruth/test/285022.mat\n",
            "BSR/BSDS500/data/groundTruth/test/17067.mat\n",
            "BSR/BSDS500/data/groundTruth/test/106047.mat\n",
            "BSR/BSDS500/data/groundTruth/test/108036.mat\n",
            "BSR/BSDS500/data/groundTruth/test/140088.mat\n",
            "BSR/BSDS500/data/groundTruth/test/87015.mat\n",
            "BSR/BSDS500/data/groundTruth/test/196040.mat\n",
            "BSR/BSDS500/data/groundTruth/test/223004.mat\n",
            "BSR/BSDS500/data/groundTruth/test/326025.mat\n",
            "BSR/BSDS500/data/groundTruth/test/80090.mat\n",
            "BSR/BSDS500/data/groundTruth/test/69000.mat\n",
            "BSR/BSDS500/data/groundTruth/test/309040.mat\n",
            "BSR/BSDS500/data/groundTruth/test/196027.mat\n",
            "BSR/BSDS500/data/groundTruth/test/43033.mat\n",
            "BSR/BSDS500/data/groundTruth/test/388067.mat\n",
            "BSR/BSDS500/data/groundTruth/test/159002.mat\n",
            "BSR/BSDS500/data/groundTruth/test/226043.mat\n",
            "BSR/BSDS500/data/groundTruth/test/207038.mat\n",
            "BSR/BSDS500/data/groundTruth/test/103029.mat\n",
            "BSR/BSDS500/data/groundTruth/test/145079.mat\n",
            "BSR/BSDS500/data/groundTruth/test/120003.mat\n",
            "BSR/BSDS500/data/groundTruth/test/103078.mat\n",
            "BSR/BSDS500/data/groundTruth/test/235098.mat\n",
            "BSR/BSDS500/data/groundTruth/test/141048.mat\n",
            "BSR/BSDS500/data/groundTruth/test/145059.mat\n",
            "BSR/BSDS500/data/groundTruth/test/112090.mat\n",
            "BSR/BSDS500/data/groundTruth/test/160067.mat\n",
            "BSR/BSDS500/data/groundTruth/test/268048.mat\n",
            "BSR/BSDS500/data/groundTruth/test/15062.mat\n",
            "BSR/BSDS500/data/groundTruth/test/109055.mat\n",
            "BSR/BSDS500/data/groundTruth/test/107045.mat\n",
            "BSR/BSDS500/data/groundTruth/test/217090.mat\n",
            "BSR/BSDS500/data/groundTruth/test/94095.mat\n",
            "BSR/BSDS500/data/groundTruth/test/365072.mat\n",
            "BSR/BSDS500/data/groundTruth/test/226022.mat\n",
            "BSR/BSDS500/data/groundTruth/test/188025.mat\n",
            "BSR/BSDS500/data/groundTruth/test/147080.mat\n",
            "BSR/BSDS500/data/groundTruth/test/120093.mat\n",
            "BSR/BSDS500/data/groundTruth/test/376086.mat\n",
            "BSR/BSDS500/data/groundTruth/test/100039.mat\n",
            "BSR/BSDS500/data/groundTruth/test/159022.mat\n",
            "BSR/BSDS500/data/groundTruth/test/384089.mat\n",
            "BSR/BSDS500/data/groundTruth/test/189096.mat\n",
            "BSR/BSDS500/data/groundTruth/test/108069.mat\n",
            "BSR/BSDS500/data/groundTruth/test/118072.mat\n",
            "BSR/BSDS500/data/groundTruth/test/29030.mat\n",
            "BSR/BSDS500/data/groundTruth/test/107014.mat\n",
            "BSR/BSDS500/data/groundTruth/test/164046.mat\n",
            "BSR/BSDS500/data/groundTruth/test/108004.mat\n",
            "BSR/BSDS500/data/groundTruth/test/140006.mat\n",
            "BSR/BSDS500/data/groundTruth/test/202000.mat\n",
            "BSR/BSDS500/data/groundTruth/test/207049.mat\n",
            "BSR/BSDS500/data/groundTruth/test/81095.mat\n",
            "BSR/BSDS500/data/groundTruth/test/65084.mat\n",
            "BSR/BSDS500/data/groundTruth/test/161045.mat\n",
            "BSR/BSDS500/data/groundTruth/test/281017.mat\n",
            "BSR/BSDS500/data/groundTruth/test/28083.mat\n",
            "BSR/BSDS500/data/groundTruth/test/16004.mat\n",
            "BSR/BSDS500/data/groundTruth/test/384022.mat\n",
            "BSR/BSDS500/data/groundTruth/test/41006.mat\n",
            "BSR/BSDS500/data/groundTruth/test/206097.mat\n",
            "BSR/BSDS500/data/groundTruth/test/3063.mat\n",
            "BSR/BSDS500/data/groundTruth/test/267036.mat\n",
            "BSR/BSDS500/data/images/\n",
            "BSR/BSDS500/data/images/train/\n",
            "BSR/BSDS500/data/images/train/97017.jpg\n",
            "BSR/BSDS500/data/images/train/124084.jpg\n",
            "BSR/BSDS500/data/images/train/170054.jpg\n",
            "BSR/BSDS500/data/images/train/249061.jpg\n",
            "BSR/BSDS500/data/images/train/216066.jpg\n",
            "BSR/BSDS500/data/images/train/22093.jpg\n",
            "BSR/BSDS500/data/images/train/43083.jpg\n",
            "BSR/BSDS500/data/images/train/254033.jpg\n",
            "BSR/BSDS500/data/images/train/94079.jpg\n",
            "BSR/BSDS500/data/images/train/159091.jpg\n",
            "BSR/BSDS500/data/images/train/166081.jpg\n",
            "BSR/BSDS500/data/images/train/130034.jpg\n",
            "BSR/BSDS500/data/images/train/55075.jpg\n",
            "BSR/BSDS500/data/images/train/106020.jpg\n",
            "BSR/BSDS500/data/images/train/189011.jpg\n",
            "BSR/BSDS500/data/images/train/61060.jpg\n",
            "BSR/BSDS500/data/images/train/41004.jpg\n",
            "BSR/BSDS500/data/images/train/95006.jpg\n",
            "BSR/BSDS500/data/images/train/198054.jpg\n",
            "BSR/BSDS500/data/images/train/67079.jpg\n",
            "BSR/BSDS500/data/images/train/246053.jpg\n",
            "BSR/BSDS500/data/images/train/370036.jpg\n",
            "BSR/BSDS500/data/images/train/135037.jpg\n",
            "BSR/BSDS500/data/images/train/61086.jpg\n",
            "BSR/BSDS500/data/images/train/71046.jpg\n",
            "BSR/BSDS500/data/images/train/151087.jpg\n",
            "BSR/BSDS500/data/images/train/187003.jpg\n",
            "BSR/BSDS500/data/images/train/15004.jpg\n",
            "BSR/BSDS500/data/images/train/242078.jpg\n",
            "BSR/BSDS500/data/images/train/22013.jpg\n",
            "BSR/BSDS500/data/images/train/140055.jpg\n",
            "BSR/BSDS500/data/images/train/2092.jpg\n",
            "BSR/BSDS500/data/images/train/310007.jpg\n",
            "BSR/BSDS500/data/images/train/112082.jpg\n",
            "BSR/BSDS500/data/images/train/28075.jpg\n",
            "BSR/BSDS500/data/images/train/187039.jpg\n",
            "BSR/BSDS500/data/images/train/20008.jpg\n",
            "BSR/BSDS500/data/images/train/268002.jpg\n",
            "BSR/BSDS500/data/images/train/59078.jpg\n",
            "BSR/BSDS500/data/images/train/163062.jpg\n",
            "BSR/BSDS500/data/images/train/196015.jpg\n",
            "BSR/BSDS500/data/images/train/147021.jpg\n",
            "BSR/BSDS500/data/images/train/374067.jpg\n",
            "BSR/BSDS500/data/images/train/163014.jpg\n",
            "BSR/BSDS500/data/images/train/Thumbs.db\n",
            "BSR/BSDS500/data/images/train/372047.jpg\n",
            "BSR/BSDS500/data/images/train/65132.jpg\n",
            "BSR/BSDS500/data/images/train/260081.jpg\n",
            "BSR/BSDS500/data/images/train/271031.jpg\n",
            "BSR/BSDS500/data/images/train/138032.jpg\n",
            "BSR/BSDS500/data/images/train/113009.jpg\n",
            "BSR/BSDS500/data/images/train/23025.jpg\n",
            "BSR/BSDS500/data/images/train/16052.jpg\n",
            "BSR/BSDS500/data/images/train/286092.jpg\n",
            "BSR/BSDS500/data/images/train/326038.jpg\n",
            "BSR/BSDS500/data/images/train/92059.jpg\n",
            "BSR/BSDS500/data/images/train/159045.jpg\n",
            "BSR/BSDS500/data/images/train/176019.jpg\n",
            "BSR/BSDS500/data/images/train/239096.jpg\n",
            "BSR/BSDS500/data/images/train/108073.jpg\n",
            "BSR/BSDS500/data/images/train/135069.jpg\n",
            "BSR/BSDS500/data/images/train/35058.jpg\n",
            "BSR/BSDS500/data/images/train/103041.jpg\n",
            "BSR/BSDS500/data/images/train/153077.jpg\n",
            "BSR/BSDS500/data/images/train/317080.jpg\n",
            "BSR/BSDS500/data/images/train/368016.jpg\n",
            "BSR/BSDS500/data/images/train/12074.jpg\n",
            "BSR/BSDS500/data/images/train/66039.jpg\n",
            "BSR/BSDS500/data/images/train/144067.jpg\n",
            "BSR/BSDS500/data/images/train/117054.jpg\n",
            "BSR/BSDS500/data/images/train/118035.jpg\n",
            "BSR/BSDS500/data/images/train/54005.jpg\n",
            "BSR/BSDS500/data/images/train/323016.jpg\n",
            "BSR/BSDS500/data/images/train/176035.jpg\n",
            "BSR/BSDS500/data/images/train/153093.jpg\n",
            "BSR/BSDS500/data/images/train/293029.jpg\n",
            "BSR/BSDS500/data/images/train/41025.jpg\n",
            "BSR/BSDS500/data/images/train/145053.jpg\n",
            "BSR/BSDS500/data/images/train/46076.jpg\n",
            "BSR/BSDS500/data/images/train/245051.jpg\n",
            "BSR/BSDS500/data/images/train/302003.jpg\n",
            "BSR/BSDS500/data/images/train/292066.jpg\n",
            "BSR/BSDS500/data/images/train/24063.jpg\n",
            "BSR/BSDS500/data/images/train/207056.jpg\n",
            "BSR/BSDS500/data/images/train/100080.jpg\n",
            "BSR/BSDS500/data/images/train/68077.jpg\n",
            "BSR/BSDS500/data/images/train/246016.jpg\n",
            "BSR/BSDS500/data/images/train/23084.jpg\n",
            "BSR/BSDS500/data/images/train/45077.jpg\n",
            "BSR/BSDS500/data/images/train/155060.jpg\n",
            "BSR/BSDS500/data/images/train/66075.jpg\n",
            "BSR/BSDS500/data/images/train/361084.jpg\n",
            "BSR/BSDS500/data/images/train/113044.jpg\n",
            "BSR/BSDS500/data/images/train/169012.jpg\n",
            "BSR/BSDS500/data/images/train/189003.jpg\n",
            "BSR/BSDS500/data/images/train/23080.jpg\n",
            "BSR/BSDS500/data/images/train/365025.jpg\n",
            "BSR/BSDS500/data/images/train/239007.jpg\n",
            "BSR/BSDS500/data/images/train/108041.jpg\n",
            "BSR/BSDS500/data/images/train/104022.jpg\n",
            "BSR/BSDS500/data/images/train/80099.jpg\n",
            "BSR/BSDS500/data/images/train/247085.jpg\n",
            "BSR/BSDS500/data/images/train/277095.jpg\n",
            "BSR/BSDS500/data/images/train/238011.jpg\n",
            "BSR/BSDS500/data/images/train/225017.jpg\n",
            "BSR/BSDS500/data/images/train/105053.jpg\n",
            "BSR/BSDS500/data/images/train/181018.jpg\n",
            "BSR/BSDS500/data/images/train/106025.jpg\n",
            "BSR/BSDS500/data/images/train/27059.jpg\n",
            "BSR/BSDS500/data/images/train/374020.jpg\n",
            "BSR/BSDS500/data/images/train/172032.jpg\n",
            "BSR/BSDS500/data/images/train/65074.jpg\n",
            "BSR/BSDS500/data/images/train/176039.jpg\n",
            "BSR/BSDS500/data/images/train/385028.jpg\n",
            "BSR/BSDS500/data/images/train/232038.jpg\n",
            "BSR/BSDS500/data/images/train/301007.jpg\n",
            "BSR/BSDS500/data/images/train/198023.jpg\n",
            "BSR/BSDS500/data/images/train/159029.jpg\n",
            "BSR/BSDS500/data/images/train/188063.jpg\n",
            "BSR/BSDS500/data/images/train/25098.jpg\n",
            "BSR/BSDS500/data/images/train/42078.jpg\n",
            "BSR/BSDS500/data/images/train/249087.jpg\n",
            "BSR/BSDS500/data/images/train/90076.jpg\n",
            "BSR/BSDS500/data/images/train/181079.jpg\n",
            "BSR/BSDS500/data/images/train/56028.jpg\n",
            "BSR/BSDS500/data/images/train/122048.jpg\n",
            "BSR/BSDS500/data/images/train/164074.jpg\n",
            "BSR/BSDS500/data/images/train/100075.jpg\n",
            "BSR/BSDS500/data/images/train/188091.jpg\n",
            "BSR/BSDS500/data/images/train/188005.jpg\n",
            "BSR/BSDS500/data/images/train/24004.jpg\n",
            "BSR/BSDS500/data/images/train/253036.jpg\n",
            "BSR/BSDS500/data/images/train/181091.jpg\n",
            "BSR/BSDS500/data/images/train/100098.jpg\n",
            "BSR/BSDS500/data/images/train/227046.jpg\n",
            "BSR/BSDS500/data/images/train/209070.jpg\n",
            "BSR/BSDS500/data/images/train/156079.jpg\n",
            "BSR/BSDS500/data/images/train/187029.jpg\n",
            "BSR/BSDS500/data/images/train/187083.jpg\n",
            "BSR/BSDS500/data/images/train/183055.jpg\n",
            "BSR/BSDS500/data/images/train/173036.jpg\n",
            "BSR/BSDS500/data/images/train/183087.jpg\n",
            "BSR/BSDS500/data/images/train/138078.jpg\n",
            "BSR/BSDS500/data/images/train/134052.jpg\n",
            "BSR/BSDS500/data/images/train/35010.jpg\n",
            "BSR/BSDS500/data/images/train/178054.jpg\n",
            "BSR/BSDS500/data/images/train/309004.jpg\n",
            "BSR/BSDS500/data/images/train/236017.jpg\n",
            "BSR/BSDS500/data/images/train/87065.jpg\n",
            "BSR/BSDS500/data/images/train/28096.jpg\n",
            "BSR/BSDS500/data/images/train/376020.jpg\n",
            "BSR/BSDS500/data/images/train/147062.jpg\n",
            "BSR/BSDS500/data/images/train/35008.jpg\n",
            "BSR/BSDS500/data/images/train/43070.jpg\n",
            "BSR/BSDS500/data/images/train/376001.jpg\n",
            "BSR/BSDS500/data/images/train/22090.jpg\n",
            "BSR/BSDS500/data/images/train/388016.jpg\n",
            "BSR/BSDS500/data/images/train/368078.jpg\n",
            "BSR/BSDS500/data/images/train/134008.jpg\n",
            "BSR/BSDS500/data/images/train/311068.jpg\n",
            "BSR/BSDS500/data/images/train/285036.jpg\n",
            "BSR/BSDS500/data/images/train/60079.jpg\n",
            "BSR/BSDS500/data/images/train/12003.jpg\n",
            "BSR/BSDS500/data/images/train/299091.jpg\n",
            "BSR/BSDS500/data/images/train/35070.jpg\n",
            "BSR/BSDS500/data/images/train/55067.jpg\n",
            "BSR/BSDS500/data/images/train/118020.jpg\n",
            "BSR/BSDS500/data/images/train/314016.jpg\n",
            "BSR/BSDS500/data/images/train/113016.jpg\n",
            "BSR/BSDS500/data/images/train/311081.jpg\n",
            "BSR/BSDS500/data/images/train/15088.jpg\n",
            "BSR/BSDS500/data/images/train/274007.jpg\n",
            "BSR/BSDS500/data/images/train/254054.jpg\n",
            "BSR/BSDS500/data/images/train/48055.jpg\n",
            "BSR/BSDS500/data/images/train/8049.jpg\n",
            "BSR/BSDS500/data/images/train/140075.jpg\n",
            "BSR/BSDS500/data/images/train/145014.jpg\n",
            "BSR/BSDS500/data/images/train/202012.jpg\n",
            "BSR/BSDS500/data/images/train/109034.jpg\n",
            "BSR/BSDS500/data/images/train/8143.jpg\n",
            "BSR/BSDS500/data/images/train/271008.jpg\n",
            "BSR/BSDS500/data/images/train/157036.jpg\n",
            "BSR/BSDS500/data/images/train/33066.jpg\n",
            "BSR/BSDS500/data/images/train/353013.jpg\n",
            "BSR/BSDS500/data/images/train/78019.jpg\n",
            "BSR/BSDS500/data/images/train/231015.jpg\n",
            "BSR/BSDS500/data/images/train/26031.jpg\n",
            "BSR/BSDS500/data/images/train/227040.jpg\n",
            "BSR/BSDS500/data/images/train/198004.jpg\n",
            "BSR/BSDS500/data/images/train/365073.jpg\n",
            "BSR/BSDS500/data/images/train/161062.jpg\n",
            "BSR/BSDS500/data/images/train/105019.jpg\n",
            "BSR/BSDS500/data/images/train/216053.jpg\n",
            "BSR/BSDS500/data/images/train/35091.jpg\n",
            "BSR/BSDS500/data/images/train/126039.jpg\n",
            "BSR/BSDS500/data/images/train/216041.jpg\n",
            "BSR/BSDS500/data/images/train/187071.jpg\n",
            "BSR/BSDS500/data/images/train/76002.jpg\n",
            "BSR/BSDS500/data/images/train/42044.jpg\n",
            "BSR/BSDS500/data/images/train/65010.jpg\n",
            "BSR/BSDS500/data/images/train/65019.jpg\n",
            "BSR/BSDS500/data/images/val/\n",
            "BSR/BSDS500/data/images/val/295087.jpg\n",
            "BSR/BSDS500/data/images/val/351093.jpg\n",
            "BSR/BSDS500/data/images/val/167083.jpg\n",
            "BSR/BSDS500/data/images/val/236037.jpg\n",
            "BSR/BSDS500/data/images/val/119082.jpg\n",
            "BSR/BSDS500/data/images/val/210088.jpg\n",
            "BSR/BSDS500/data/images/val/299086.jpg\n",
            "BSR/BSDS500/data/images/val/105025.jpg\n",
            "BSR/BSDS500/data/images/val/58060.jpg\n",
            "BSR/BSDS500/data/images/val/45096.jpg\n",
            "BSR/BSDS500/data/images/val/54082.jpg\n",
            "BSR/BSDS500/data/images/val/163085.jpg\n",
            "BSR/BSDS500/data/images/val/189080.jpg\n",
            "BSR/BSDS500/data/images/val/302008.jpg\n",
            "BSR/BSDS500/data/images/val/55073.jpg\n",
            "BSR/BSDS500/data/images/val/109053.jpg\n",
            "BSR/BSDS500/data/images/val/69020.jpg\n",
            "BSR/BSDS500/data/images/val/182053.jpg\n",
            "BSR/BSDS500/data/images/val/108082.jpg\n",
            "BSR/BSDS500/data/images/val/108005.jpg\n",
            "BSR/BSDS500/data/images/val/175032.jpg\n",
            "BSR/BSDS500/data/images/val/38082.jpg\n",
            "BSR/BSDS500/data/images/val/304074.jpg\n",
            "BSR/BSDS500/data/images/val/86000.jpg\n",
            "BSR/BSDS500/data/images/val/Thumbs.db\n",
            "BSR/BSDS500/data/images/val/291000.jpg\n",
            "BSR/BSDS500/data/images/val/21077.jpg\n",
            "BSR/BSDS500/data/images/val/196073.jpg\n",
            "BSR/BSDS500/data/images/val/38092.jpg\n",
            "BSR/BSDS500/data/images/val/69015.jpg\n",
            "BSR/BSDS500/data/images/val/86068.jpg\n",
            "BSR/BSDS500/data/images/val/160068.jpg\n",
            "BSR/BSDS500/data/images/val/208001.jpg\n",
            "BSR/BSDS500/data/images/val/219090.jpg\n",
            "BSR/BSDS500/data/images/val/42012.jpg\n",
            "BSR/BSDS500/data/images/val/43074.jpg\n",
            "BSR/BSDS500/data/images/val/78004.jpg\n",
            "BSR/BSDS500/data/images/val/66053.jpg\n",
            "BSR/BSDS500/data/images/val/86016.jpg\n",
            "BSR/BSDS500/data/images/val/296007.jpg\n",
            "BSR/BSDS500/data/images/val/123074.jpg\n",
            "BSR/BSDS500/data/images/val/306005.jpg\n",
            "BSR/BSDS500/data/images/val/19021.jpg\n",
            "BSR/BSDS500/data/images/val/271035.jpg\n",
            "BSR/BSDS500/data/images/val/12084.jpg\n",
            "BSR/BSDS500/data/images/val/260058.jpg\n",
            "BSR/BSDS500/data/images/val/361010.jpg\n",
            "BSR/BSDS500/data/images/val/62096.jpg\n",
            "BSR/BSDS500/data/images/val/3096.jpg\n",
            "BSR/BSDS500/data/images/val/126007.jpg\n",
            "BSR/BSDS500/data/images/val/130026.jpg\n",
            "BSR/BSDS500/data/images/val/253027.jpg\n",
            "BSR/BSDS500/data/images/val/376043.jpg\n",
            "BSR/BSDS500/data/images/val/143090.jpg\n",
            "BSR/BSDS500/data/images/val/170057.jpg\n",
            "BSR/BSDS500/data/images/val/385039.jpg\n",
            "BSR/BSDS500/data/images/val/159008.jpg\n",
            "BSR/BSDS500/data/images/val/134035.jpg\n",
            "BSR/BSDS500/data/images/val/216081.jpg\n",
            "BSR/BSDS500/data/images/val/89072.jpg\n",
            "BSR/BSDS500/data/images/val/220075.jpg\n",
            "BSR/BSDS500/data/images/val/223061.jpg\n",
            "BSR/BSDS500/data/images/val/148026.jpg\n",
            "BSR/BSDS500/data/images/val/33039.jpg\n",
            "BSR/BSDS500/data/images/val/147091.jpg\n",
            "BSR/BSDS500/data/images/val/167062.jpg\n",
            "BSR/BSDS500/data/images/val/285079.jpg\n",
            "BSR/BSDS500/data/images/val/42049.jpg\n",
            "BSR/BSDS500/data/images/val/41033.jpg\n",
            "BSR/BSDS500/data/images/val/156065.jpg\n",
            "BSR/BSDS500/data/images/val/8023.jpg\n",
            "BSR/BSDS500/data/images/val/108070.jpg\n",
            "BSR/BSDS500/data/images/val/101087.jpg\n",
            "BSR/BSDS500/data/images/val/229036.jpg\n",
            "BSR/BSDS500/data/images/val/241004.jpg\n",
            "BSR/BSDS500/data/images/val/85048.jpg\n",
            "BSR/BSDS500/data/images/val/300091.jpg\n",
            "BSR/BSDS500/data/images/val/41069.jpg\n",
            "BSR/BSDS500/data/images/val/241048.jpg\n",
            "BSR/BSDS500/data/images/val/102061.jpg\n",
            "BSR/BSDS500/data/images/val/175043.jpg\n",
            "BSR/BSDS500/data/images/val/197017.jpg\n",
            "BSR/BSDS500/data/images/val/296059.jpg\n",
            "BSR/BSDS500/data/images/val/253055.jpg\n",
            "BSR/BSDS500/data/images/val/304034.jpg\n",
            "BSR/BSDS500/data/images/val/37073.jpg\n",
            "BSR/BSDS500/data/images/val/87046.jpg\n",
            "BSR/BSDS500/data/images/val/24077.jpg\n",
            "BSR/BSDS500/data/images/val/14037.jpg\n",
            "BSR/BSDS500/data/images/val/103070.jpg\n",
            "BSR/BSDS500/data/images/val/148089.jpg\n",
            "BSR/BSDS500/data/images/val/157055.jpg\n",
            "BSR/BSDS500/data/images/val/97033.jpg\n",
            "BSR/BSDS500/data/images/val/76053.jpg\n",
            "BSR/BSDS500/data/images/val/106024.jpg\n",
            "BSR/BSDS500/data/images/val/101085.jpg\n",
            "BSR/BSDS500/data/images/val/65033.jpg\n",
            "BSR/BSDS500/data/images/val/69040.jpg\n",
            "BSR/BSDS500/data/images/val/145086.jpg\n",
            "BSR/BSDS500/data/images/val/227092.jpg\n",
            "BSR/BSDS500/data/images/val/16077.jpg\n",
            "BSR/BSDS500/data/images/test/\n",
            "BSR/BSDS500/data/images/test/163004.jpg\n",
            "BSR/BSDS500/data/images/test/209021.jpg\n",
            "BSR/BSDS500/data/images/test/285022.jpg\n",
            "BSR/BSDS500/data/images/test/103029.jpg\n",
            "BSR/BSDS500/data/images/test/33044.jpg\n",
            "BSR/BSDS500/data/images/test/250047.jpg\n",
            "BSR/BSDS500/data/images/test/107014.jpg\n",
            "BSR/BSDS500/data/images/test/159022.jpg\n",
            "BSR/BSDS500/data/images/test/10081.jpg\n",
            "BSR/BSDS500/data/images/test/2018.jpg\n",
            "BSR/BSDS500/data/images/test/196088.jpg\n",
            "BSR/BSDS500/data/images/test/77062.jpg\n",
            "BSR/BSDS500/data/images/test/289011.jpg\n",
            "BSR/BSDS500/data/images/test/277053.jpg\n",
            "BSR/BSDS500/data/images/test/268048.jpg\n",
            "BSR/BSDS500/data/images/test/79073.jpg\n",
            "BSR/BSDS500/data/images/test/156054.jpg\n",
            "BSR/BSDS500/data/images/test/5096.jpg\n",
            "BSR/BSDS500/data/images/test/97010.jpg\n",
            "BSR/BSDS500/data/images/test/228076.jpg\n",
            "BSR/BSDS500/data/images/test/238025.jpg\n",
            "BSR/BSDS500/data/images/test/16068.jpg\n",
            "BSR/BSDS500/data/images/test/81090.jpg\n",
            "BSR/BSDS500/data/images/test/69007.jpg\n",
            "BSR/BSDS500/data/images/test/106047.jpg\n",
            "BSR/BSDS500/data/images/test/347031.jpg\n",
            "BSR/BSDS500/data/images/test/49024.jpg\n",
            "BSR/BSDS500/data/images/test/28083.jpg\n",
            "BSR/BSDS500/data/images/test/187058.jpg\n",
            "BSR/BSDS500/data/images/test/235098.jpg\n",
            "BSR/BSDS500/data/images/test/198087.jpg\n",
            "BSR/BSDS500/data/images/test/Thumbs.db\n",
            "BSR/BSDS500/data/images/test/112056.jpg\n",
            "BSR/BSDS500/data/images/test/249021.jpg\n",
            "BSR/BSDS500/data/images/test/103078.jpg\n",
            "BSR/BSDS500/data/images/test/253092.jpg\n",
            "BSR/BSDS500/data/images/test/161045.jpg\n",
            "BSR/BSDS500/data/images/test/189013.jpg\n",
            "BSR/BSDS500/data/images/test/20069.jpg\n",
            "BSR/BSDS500/data/images/test/71099.jpg\n",
            "BSR/BSDS500/data/images/test/384022.jpg\n",
            "BSR/BSDS500/data/images/test/243095.jpg\n",
            "BSR/BSDS500/data/images/test/365072.jpg\n",
            "BSR/BSDS500/data/images/test/130014.jpg\n",
            "BSR/BSDS500/data/images/test/296028.jpg\n",
            "BSR/BSDS500/data/images/test/259060.jpg\n",
            "BSR/BSDS500/data/images/test/257098.jpg\n",
            "BSR/BSDS500/data/images/test/104055.jpg\n",
            "BSR/BSDS500/data/images/test/157032.jpg\n",
            "BSR/BSDS500/data/images/test/247012.jpg\n",
            "BSR/BSDS500/data/images/test/29030.jpg\n",
            "BSR/BSDS500/data/images/test/189096.jpg\n",
            "BSR/BSDS500/data/images/test/16004.jpg\n",
            "BSR/BSDS500/data/images/test/247003.jpg\n",
            "BSR/BSDS500/data/images/test/223060.jpg\n",
            "BSR/BSDS500/data/images/test/226022.jpg\n",
            "BSR/BSDS500/data/images/test/309040.jpg\n",
            "BSR/BSDS500/data/images/test/108004.jpg\n",
            "BSR/BSDS500/data/images/test/17067.jpg\n",
            "BSR/BSDS500/data/images/test/140088.jpg\n",
            "BSR/BSDS500/data/images/test/120093.jpg\n",
            "BSR/BSDS500/data/images/test/107045.jpg\n",
            "BSR/BSDS500/data/images/test/35049.jpg\n",
            "BSR/BSDS500/data/images/test/128035.jpg\n",
            "BSR/BSDS500/data/images/test/118072.jpg\n",
            "BSR/BSDS500/data/images/test/14085.jpg\n",
            "BSR/BSDS500/data/images/test/80090.jpg\n",
            "BSR/BSDS500/data/images/test/145079.jpg\n",
            "BSR/BSDS500/data/images/test/306051.jpg\n",
            "BSR/BSDS500/data/images/test/102062.jpg\n",
            "BSR/BSDS500/data/images/test/176051.jpg\n",
            "BSR/BSDS500/data/images/test/64061.jpg\n",
            "BSR/BSDS500/data/images/test/346016.jpg\n",
            "BSR/BSDS500/data/images/test/41029.jpg\n",
            "BSR/BSDS500/data/images/test/157087.jpg\n",
            "BSR/BSDS500/data/images/test/146074.jpg\n",
            "BSR/BSDS500/data/images/test/288024.jpg\n",
            "BSR/BSDS500/data/images/test/108069.jpg\n",
            "BSR/BSDS500/data/images/test/217090.jpg\n",
            "BSR/BSDS500/data/images/test/81066.jpg\n",
            "BSR/BSDS500/data/images/test/14092.jpg\n",
            "BSR/BSDS500/data/images/test/384089.jpg\n",
            "BSR/BSDS500/data/images/test/189006.jpg\n",
            "BSR/BSDS500/data/images/test/36046.jpg\n",
            "BSR/BSDS500/data/images/test/163096.jpg\n",
            "BSR/BSDS500/data/images/test/208078.jpg\n",
            "BSR/BSDS500/data/images/test/250087.jpg\n",
            "BSR/BSDS500/data/images/test/226043.jpg\n",
            "BSR/BSDS500/data/images/test/15062.jpg\n",
            "BSR/BSDS500/data/images/test/41006.jpg\n",
            "BSR/BSDS500/data/images/test/175083.jpg\n",
            "BSR/BSDS500/data/images/test/335094.jpg\n",
            "BSR/BSDS500/data/images/test/232076.jpg\n",
            "BSR/BSDS500/data/images/test/92014.jpg\n",
            "BSR/BSDS500/data/images/test/3063.jpg\n",
            "BSR/BSDS500/data/images/test/183066.jpg\n",
            "BSR/BSDS500/data/images/test/179084.jpg\n",
            "BSR/BSDS500/data/images/test/335088.jpg\n",
            "BSR/BSDS500/data/images/test/141048.jpg\n",
            "BSR/BSDS500/data/images/test/101084.jpg\n",
            "BSR/BSDS500/data/images/test/189029.jpg\n",
            "BSR/BSDS500/data/images/test/326085.jpg\n",
            "BSR/BSDS500/data/images/test/71076.jpg\n",
            "BSR/BSDS500/data/images/test/372019.jpg\n",
            "BSR/BSDS500/data/images/test/296058.jpg\n",
            "BSR/BSDS500/data/images/test/196062.jpg\n",
            "BSR/BSDS500/data/images/test/220003.jpg\n",
            "BSR/BSDS500/data/images/test/185092.jpg\n",
            "BSR/BSDS500/data/images/test/206097.jpg\n",
            "BSR/BSDS500/data/images/test/101027.jpg\n",
            "BSR/BSDS500/data/images/test/134049.jpg\n",
            "BSR/BSDS500/data/images/test/225022.jpg\n",
            "BSR/BSDS500/data/images/test/281017.jpg\n",
            "BSR/BSDS500/data/images/test/78098.jpg\n",
            "BSR/BSDS500/data/images/test/112090.jpg\n",
            "BSR/BSDS500/data/images/test/108036.jpg\n",
            "BSR/BSDS500/data/images/test/70011.jpg\n",
            "BSR/BSDS500/data/images/test/168084.jpg\n",
            "BSR/BSDS500/data/images/test/393035.jpg\n",
            "BSR/BSDS500/data/images/test/226060.jpg\n",
            "BSR/BSDS500/data/images/test/147077.jpg\n",
            "BSR/BSDS500/data/images/test/145059.jpg\n",
            "BSR/BSDS500/data/images/test/388006.jpg\n",
            "BSR/BSDS500/data/images/test/141012.jpg\n",
            "BSR/BSDS500/data/images/test/317043.jpg\n",
            "BSR/BSDS500/data/images/test/267036.jpg\n",
            "BSR/BSDS500/data/images/test/118031.jpg\n",
            "BSR/BSDS500/data/images/test/140006.jpg\n",
            "BSR/BSDS500/data/images/test/230063.jpg\n",
            "BSR/BSDS500/data/images/test/279005.jpg\n",
            "BSR/BSDS500/data/images/test/87015.jpg\n",
            "BSR/BSDS500/data/images/test/123057.jpg\n",
            "BSR/BSDS500/data/images/test/388067.jpg\n",
            "BSR/BSDS500/data/images/test/70090.jpg\n",
            "BSR/BSDS500/data/images/test/48025.jpg\n",
            "BSR/BSDS500/data/images/test/246009.jpg\n",
            "BSR/BSDS500/data/images/test/130066.jpg\n",
            "BSR/BSDS500/data/images/test/117025.jpg\n",
            "BSR/BSDS500/data/images/test/160006.jpg\n",
            "BSR/BSDS500/data/images/test/201080.jpg\n",
            "BSR/BSDS500/data/images/test/120003.jpg\n",
            "BSR/BSDS500/data/images/test/80085.jpg\n",
            "BSR/BSDS500/data/images/test/48017.jpg\n",
            "BSR/BSDS500/data/images/test/100007.jpg\n",
            "BSR/BSDS500/data/images/test/100099.jpg\n",
            "BSR/BSDS500/data/images/test/253016.jpg\n",
            "BSR/BSDS500/data/images/test/290035.jpg\n",
            "BSR/BSDS500/data/images/test/35028.jpg\n",
            "BSR/BSDS500/data/images/test/100039.jpg\n",
            "BSR/BSDS500/data/images/test/376086.jpg\n",
            "BSR/BSDS500/data/images/test/385022.jpg\n",
            "BSR/BSDS500/data/images/test/23050.jpg\n",
            "BSR/BSDS500/data/images/test/188025.jpg\n",
            "BSR/BSDS500/data/images/test/107072.jpg\n",
            "BSR/BSDS500/data/images/test/217013.jpg\n",
            "BSR/BSDS500/data/images/test/69022.jpg\n",
            "BSR/BSDS500/data/images/test/134067.jpg\n",
            "BSR/BSDS500/data/images/test/118015.jpg\n",
            "BSR/BSDS500/data/images/test/94095.jpg\n",
            "BSR/BSDS500/data/images/test/164046.jpg\n",
            "BSR/BSDS500/data/images/test/81095.jpg\n",
            "BSR/BSDS500/data/images/test/181021.jpg\n",
            "BSR/BSDS500/data/images/test/268074.jpg\n",
            "BSR/BSDS500/data/images/test/160067.jpg\n",
            "BSR/BSDS500/data/images/test/103006.jpg\n",
            "BSR/BSDS500/data/images/test/302022.jpg\n",
            "BSR/BSDS500/data/images/test/388018.jpg\n",
            "BSR/BSDS500/data/images/test/207049.jpg\n",
            "BSR/BSDS500/data/images/test/8068.jpg\n",
            "BSR/BSDS500/data/images/test/106005.jpg\n",
            "BSR/BSDS500/data/images/test/43051.jpg\n",
            "BSR/BSDS500/data/images/test/109055.jpg\n",
            "BSR/BSDS500/data/images/test/258089.jpg\n",
            "BSR/BSDS500/data/images/test/41085.jpg\n",
            "BSR/BSDS500/data/images/test/105027.jpg\n",
            "BSR/BSDS500/data/images/test/6046.jpg\n",
            "BSR/BSDS500/data/images/test/41096.jpg\n",
            "BSR/BSDS500/data/images/test/196027.jpg\n",
            "BSR/BSDS500/data/images/test/61034.jpg\n",
            "BSR/BSDS500/data/images/test/207038.jpg\n",
            "BSR/BSDS500/data/images/test/306052.jpg\n",
            "BSR/BSDS500/data/images/test/15011.jpg\n",
            "BSR/BSDS500/data/images/test/326025.jpg\n",
            "BSR/BSDS500/data/images/test/51084.jpg\n",
            "BSR/BSDS500/data/images/test/159002.jpg\n",
            "BSR/BSDS500/data/images/test/147080.jpg\n",
            "BSR/BSDS500/data/images/test/196040.jpg\n",
            "BSR/BSDS500/data/images/test/230098.jpg\n",
            "BSR/BSDS500/data/images/test/223004.jpg\n",
            "BSR/BSDS500/data/images/test/202000.jpg\n",
            "BSR/BSDS500/data/images/test/187099.jpg\n",
            "BSR/BSDS500/data/images/test/334025.jpg\n",
            "BSR/BSDS500/data/images/test/65084.jpg\n",
            "BSR/BSDS500/data/images/test/344010.jpg\n",
            "BSR/BSDS500/data/images/test/226033.jpg\n",
            "BSR/BSDS500/data/images/test/45000.jpg\n",
            "BSR/BSDS500/data/images/test/104010.jpg\n",
            "BSR/BSDS500/data/images/test/43033.jpg\n",
            "BSR/BSDS500/data/images/test/206062.jpg\n",
            "BSR/BSDS500/data/images/test/368037.jpg\n",
            "BSR/BSDS500/data/images/test/69000.jpg\n"
          ],
          "name": "stdout"
        }
      ]
    },
    {
      "cell_type": "code",
      "metadata": {
        "id": "CgT6rglj1voN",
        "colab_type": "code",
        "colab": {}
      },
      "source": [
        "\n",
        "imagesFile_path = \"BSR/BSDS500/data/images/train/\"\n",
        "imagesFile = [f for f in listdir(imagesFile_path) if isfile(join(imagesFile_path, f)) and f.endswith(\".jpg\")]\n",
        "sortedImgfiles=sorted(imagesFile)"
      ],
      "execution_count": 0,
      "outputs": []
    },
    {
      "cell_type": "code",
      "metadata": {
        "id": "SqbvwxBWiUKR",
        "colab_type": "code",
        "outputId": "2ae8a201-76a2-4a42-d99b-8035e02b285a",
        "colab": {
          "base_uri": "https://localhost:8080/",
          "height": 104
        }
      },
      "source": [
        "\n",
        "\n",
        "\n",
        "data = []\n",
        "\n",
        "for i in range(len(sortedImgfiles)):\n",
        "    testPlot=imagesFile_path+sortedImgfiles[i]\n",
        "    img = cv2.imread(testPlot, cv2.IMREAD_UNCHANGED)\n",
        "\n",
        "# get dimensions of image\n",
        "    dimensions = img.shape\n",
        "# height, width, number of channels in image\n",
        "    height = img.shape[0]\n",
        "    width = img.shape[1]\n",
        "    channels = img.shape[2]\n",
        "    numberTotalPixels=height*width\n",
        "    data.append(img)\n",
        "    mydata = np.array(data)\n",
        "\n",
        "print('Image Dimension    : ',dimensions)\n",
        "print('Image Height       : ',height)\n",
        "print('Image Width        : ',width)\n",
        "print('Number of Channels : ',channels)\n",
        "print('Number of Pixels   : ',numberTotalPixels)\n"
      ],
      "execution_count": 62,
      "outputs": [
        {
          "output_type": "stream",
          "text": [
            "Image Dimension    :  (321, 481, 3)\n",
            "Image Height       :  321\n",
            "Image Width        :  481\n",
            "Number of Channels :  3\n",
            "Number of Pixels   :  154401\n"
          ],
          "name": "stdout"
        }
      ]
    },
    {
      "cell_type": "code",
      "metadata": {
        "id": "nktetz4g13GK",
        "colab_type": "code",
        "colab": {}
      },
      "source": [
        "chsenNumbers=15\n",
        "plt.imshow(mydata[chsenNumbers])\n",
        "plt.show()\n"
      ],
      "execution_count": 0,
      "outputs": []
    },
    {
      "cell_type": "markdown",
      "metadata": {
        "id": "PhJFs9uv6pMy",
        "colab_type": "text"
      },
      "source": [
        "**Extract Ground Truth**"
      ]
    },
    {
      "cell_type": "code",
      "metadata": {
        "id": "3y_tl243vXtd",
        "colab_type": "code",
        "colab": {}
      },
      "source": [
        "groundTruth_path = \"BSR/BSDS500/data/groundTruth/train/\"\n",
        "groundTruthFile = [f for f in listdir(groundTruth_path) if isfile(join(groundTruth_path, f)) and f.endswith(\".mat\")]\n",
        "sortedGroundTruthFile=sorted(groundTruthFile)"
      ],
      "execution_count": 0,
      "outputs": []
    },
    {
      "cell_type": "code",
      "metadata": {
        "id": "vzvOwpTPdIig",
        "colab_type": "code",
        "colab": {}
      },
      "source": [
        "import scipy.io \n",
        "\n",
        "def load_bsd_gt(filename):\n",
        "    gt = scipy.io.loadmat(filename);\n",
        "    # scipy.io.loadmat()\n",
        "    gt = gt['groundTruth']\n",
        "    what = ['Segmentation','Boundaries']\n",
        "    cols = (gt.shape[1])\n",
        "    ret = list()\n",
        "    for xx in range(cols):\n",
        "        j=0\n",
        "        tmp = list()\n",
        "        for w in what:\n",
        "            tmp.append(gt[0][xx][w][0][0][:])\n",
        "            arr_gt=np.array(tmp[j])\n",
        "            print(arr_gt.shape)\n",
        "            j=j+1\n",
        "            plt.imshow(arr_gt)\n",
        "            plt.show()\n",
        "            ret.append(tmp)\n",
        "    return ret\n",
        "\n"
      ],
      "execution_count": 0,
      "outputs": []
    },
    {
      "cell_type": "code",
      "metadata": {
        "id": "dK8eERHe2q4f",
        "colab_type": "code",
        "outputId": "da454b5b-cd3e-4df9-a079-a82b54b296c9",
        "colab": {
          "base_uri": "https://localhost:8080/",
          "height": 1000
        }
      },
      "source": [
        "arr_gt=[]\n",
        "testPlot_=groundTruth_path+sortedGroundTruthFile[Picture_numbr]\n",
        "arr_gt=load_bsd_gt(testPlot_)\n"
      ],
      "execution_count": 66,
      "outputs": [
        {
          "output_type": "stream",
          "text": [
            "(321, 481)\n"
          ],
          "name": "stdout"
        },
        {
          "output_type": "display_data",
          "data": {
            "image/png": "[encoded data removed]",
            "text/plain": [
              "<Figure size 432x288 with 1 Axes>"
            ]
          },
          "metadata": {
            "tags": []
          }
        },
        {
          "output_type": "stream",
          "text": [
            "(321, 481)\n"
          ],
          "name": "stdout"
        },
        {
          "output_type": "display_data",
          "data": {
            "image/png": "[encoded data removed]",
            "text/plain": [
              "<Figure size 432x288 with 1 Axes>"
            ]
          },
          "metadata": {
            "tags": []
          }
        },
        {
          "output_type": "stream",
          "text": [
            "(321, 481)\n"
          ],
          "name": "stdout"
        },
        {
          "output_type": "display_data",
          "data": {
            "image/png": "[encoded data removed]",
            "text/plain": [
              "<Figure size 432x288 with 1 Axes>"
            ]
          },
          "metadata": {
            "tags": []
          }
        },
        {
          "output_type": "stream",
          "text": [
            "(321, 481)\n"
          ],
          "name": "stdout"
        },
        {
          "output_type": "display_data",
          "data": {
            "image/png": "[encoded data removed]",
            "text/plain": [
              "<Figure size 432x288 with 1 Axes>"
            ]
          },
          "metadata": {
            "tags": []
          }
        },
        {
          "output_type": "stream",
          "text": [
            "(321, 481)\n"
          ],
          "name": "stdout"
        },
        {
          "output_type": "display_data",
          "data": {
            "image/png": "[encoded data removed]",
            "text/plain": [
              "<Figure size 432x288 with 1 Axes>"
            ]
          },
          "metadata": {
            "tags": []
          }
        },
        {
          "output_type": "stream",
          "text": [
            "(321, 481)\n"
          ],
          "name": "stdout"
        },
        {
          "output_type": "display_data",
          "data": {
            "image/png": "[encoded data removed]",
            "text/plain": [
              "<Figure size 432x288 with 1 Axes>"
            ]
          },
          "metadata": {
            "tags": []
          }
        },
        {
          "output_type": "stream",
          "text": [
            "(321, 481)\n"
          ],
          "name": "stdout"
        },
        {
          "output_type": "display_data",
          "data": {
            "image/png": "[encoded data removed]",
            "text/plain": [
              "<Figure size 432x288 with 1 Axes>"
            ]
          },
          "metadata": {
            "tags": []
          }
        },
        {
          "output_type": "stream",
          "text": [
            "(321, 481)\n"
          ],
          "name": "stdout"
        },
        {
          "output_type": "display_data",
          "data": {
            "image/png": "[encoded data removed]",
            "text/plain": [
              "<Figure size 432x288 with 1 Axes>"
            ]
          },
          "metadata": {
            "tags": []
          }
        },
        {
          "output_type": "stream",
          "text": [
            "(321, 481)\n"
          ],
          "name": "stdout"
        },
        {
          "output_type": "display_data",
          "data": {
            "image/png": "[encoded data removed]",
            "text/plain": [
              "<Figure size 432x288 with 1 Axes>"
            ]
          },
          "metadata": {
            "tags": []
          }
        },
        {
          "output_type": "stream",
          "text": [
            "(321, 481)\n"
          ],
          "name": "stdout"
        },
        {
          "output_type": "display_data",
          "data": {
            "image/png": "[encoded data removed]",
            "text/plain": [
              "<Figure size 432x288 with 1 Axes>"
            ]
          },
          "metadata": {
            "tags": []
          }
        }
      ]
    },
    {
      "cell_type": "markdown",
      "metadata": {
        "id": "dvXx9tHa_5Rx",
        "colab_type": "text"
      },
      "source": [
        " ***Color Quantization*** is the process of reducing number of colors in an image. One reason to do so is to reduce the memory. Sometimes, some devices may have limitation such that it can produce only limited number of colors. In those cases also, color quantization is performed. Here we use **k-means clustering for color quantization**. italicized text"
      ]
    },
    {
      "cell_type": "markdown",
      "metadata": {
        "id": "2S3wyNSUIKBy",
        "colab_type": "text"
      },
      "source": [
        "**`K-Means`**"
      ]
    },
    {
      "cell_type": "markdown",
      "metadata": {
        "id": "IgLq0a2r_aoE",
        "colab_type": "text"
      },
      "source": [
        "\n",
        "param clusters: cluster dicts in the form center:(colors)\n",
        "return: the clusters after convergence is reached\n"
      ]
    },
    {
      "cell_type": "code",
      "metadata": {
        "id": "EQIdAnft4xHN",
        "colab_type": "code",
        "colab": {}
      },
      "source": [
        "\n",
        "\n",
        "def change_clusters_if_needed(clusters, image):\n",
        " \n",
        "  new_centers = []\n",
        "  something_changed = False\n",
        "  for center in clusters:\n",
        "    colors = clusters[center]\n",
        "    average = get_average_color(colors)\n",
        "    if average != center:\n",
        "      something_changed = True\n",
        "    new_centers.append(average)\n",
        "  if something_changed:\n",
        "    new_empty_clusters = create_cluster_dict(new_centers)\n",
        "    new_populated_clusters = populate_clusters(image, new_empty_clusters, new_centers)\n",
        "    return change_clusters_if_needed(new_populated_clusters, image)\n",
        "  else:\n",
        "    return clusters\n",
        "\n",
        "\n"
      ],
      "execution_count": 0,
      "outputs": []
    },
    {
      "cell_type": "markdown",
      "metadata": {
        "id": "wRx6-riy_0zT",
        "colab_type": "text"
      },
      "source": [
        "Param colors: a list of colors in the form (R, G, B)\n",
        "return: a color in the form (R, G, B)\n",
        "  "
      ]
    },
    {
      "cell_type": "code",
      "metadata": {
        "id": "NChMEEZX406D",
        "colab_type": "code",
        "colab": {}
      },
      "source": [
        "\n",
        "\n",
        "def get_average_color(colors):\n",
        "\n",
        "  num_colors = len(colors)\n",
        "  if num_colors == 0:\n",
        "    return (0, 0, 0)\n",
        "  r, g, b = 0, 0, 0\n",
        "  for color in colors:\n",
        "    r += color[0]\n",
        "    g += color[1]\n",
        "    b += color[2]\n",
        "  return(int(r/num_colors), int(g/num_colors), int(b/num_colors))\n",
        "\n"
      ],
      "execution_count": 0,
      "outputs": []
    },
    {
      "cell_type": "markdown",
      "metadata": {
        "id": "ujOPvj00DliW",
        "colab_type": "text"
      },
      "source": [
        "The image for which we are creating the clusters, default cluster dict where the key is the center and the value is the list of colors in the cluster centers: a list of the colors that we are using to cluster return: the cluster dict after populating with colors in the image\n"
      ]
    },
    {
      "cell_type": "code",
      "metadata": {
        "id": "2ThJIGBK5Bng",
        "colab_type": "code",
        "colab": {}
      },
      "source": [
        "\n",
        "\n",
        "\n",
        "def populate_clusters(image, clusters, centers):\n",
        "\n",
        "  for y in range(image.height):\n",
        "    for x in range(image.width):\n",
        "      color = image.getpixel((x, y))\n",
        "      center = get_nearest_center(color, centers)\n",
        "      clusters[center].append(color)\n",
        "  return clusters\n",
        "\n"
      ],
      "execution_count": 0,
      "outputs": []
    },
    {
      "cell_type": "markdown",
      "metadata": {
        "id": "zfyAHKFUEsQS",
        "colab_type": "text"
      },
      "source": [
        "param color: a color in the form (R, G, B) , centers: a list of colors\n",
        "return: the center that is closet to color according to distance between colors\n"
      ]
    },
    {
      "cell_type": "code",
      "metadata": {
        "id": "NgDWz0RT5KQY",
        "colab_type": "code",
        "colab": {}
      },
      "source": [
        "\n",
        "def get_nearest_center(color, centers):\n",
        " \n",
        "  nearest_center = centers[0]\n",
        "  shortest_distance = distance_between_colors(color, centers[0])\n",
        "  for c in centers[1:]:\n",
        "    distance = distance_between_colors(color, c)\n",
        "    if distance < shortest_distance:\n",
        "      shortest_distance = distance\n",
        "      nearest_center = c\n",
        "  return nearest_center\n"
      ],
      "execution_count": 0,
      "outputs": []
    },
    {
      "cell_type": "markdown",
      "metadata": {
        "id": "QDpE_dJQINhW",
        "colab_type": "text"
      },
      "source": [
        "param image: the image in which we are getting n random pixels,n: the number of random pixels return: a list of n pairs, each of which contains an (x, y) coordinate\n"
      ]
    },
    {
      "cell_type": "code",
      "metadata": {
        "id": "8o9A4WGx5Qm-",
        "colab_type": "code",
        "colab": {}
      },
      "source": [
        "\n",
        "\n",
        "def get_random_colors(image, n):\n",
        "  \n",
        "  initial_colors = []\n",
        "  while(len(initial_colors) < n):\n",
        "    x = random.randint(0, image.width)\n",
        "    y = random.randint(0, image.height)\n",
        "    color = image.getpixel((x, y))\n",
        "    initial_colors.append(color)\n",
        "  return initial_colors\n",
        "\n",
        "\n"
      ],
      "execution_count": 0,
      "outputs": []
    },
    {
      "cell_type": "markdown",
      "metadata": {
        "id": "Qh3QyFxiIkEs",
        "colab_type": "text"
      },
      "source": [
        "param color1: a color in the format (R, G, B) color2: a color in the format (R, G, B)return: a floating point number representing the color space distance between color1 and color2\n"
      ]
    },
    {
      "cell_type": "code",
      "metadata": {
        "id": "fEmlu9RanpPi",
        "colab_type": "code",
        "colab": {}
      },
      "source": [
        "\n",
        "def distance_between_colors(color1, color2):\n",
        "\n",
        "  sum = 0\n",
        "  for index in range(3):\n",
        "    sum += (color1[index] - color2[index])**2\n",
        "  return sum ** (1/2)\n"
      ],
      "execution_count": 0,
      "outputs": []
    },
    {
      "cell_type": "markdown",
      "metadata": {
        "id": "oRATE0RNIsxj",
        "colab_type": "text"
      },
      "source": [
        "param image: a blank image whose pixels' colors will be set, clusters: the groups of similar pixels in a dict object return: nothing, this function edits 'image'"
      ]
    },
    {
      "cell_type": "code",
      "metadata": {
        "id": "NE9sieC55cgZ",
        "colab_type": "code",
        "colab": {}
      },
      "source": [
        "\n",
        "\n",
        "def populate_image_from_clusters(image, clusters):\n",
        "\n",
        "  centers = list(clusters.keys())\n",
        "  for y in range(image.height):\n",
        "    for x in range(image.width):\n",
        "      old_color = image.getpixel((x, y))\n",
        "      closest_center = get_nearest_center(old_color, centers)\n",
        "      image.putpixel((x, y), closest_center)\n",
        "\n"
      ],
      "execution_count": 0,
      "outputs": []
    },
    {
      "cell_type": "code",
      "metadata": {
        "id": "5PXXuR6J5i6N",
        "colab_type": "code",
        "colab": {}
      },
      "source": [
        "def create_cluster_dict(centers):\n",
        "  d = {}\n",
        "  for c in centers:\n",
        "    d[c] = []\n",
        "  return d"
      ],
      "execution_count": 0,
      "outputs": []
    },
    {
      "cell_type": "code",
      "metadata": {
        "id": "0HBkUGNLck80",
        "colab_type": "code",
        "colab": {}
      },
      "source": [
        "def main_Kmeans(Picture_numbr):\n",
        "    testPlot=imagesFile_path+sortedImgfiles[Picture_numbr]\n",
        "\n",
        "    filename = testPlot\n",
        "    input_image = Image.open(filename)\n",
        "    data_new_image=[]\n",
        "    data_final_clusters=[]\n",
        "    Kmeans_=[3,5,7,9,11]\n",
        "    for k in Kmeans_:  \n",
        "  \n",
        "        input_image = Image.open(filename)\n",
        "        default_colors = get_random_colors(input_image,k)\n",
        "        default_cluster = create_cluster_dict(default_colors)\n",
        "        clusters = populate_clusters(input_image, default_cluster, default_colors)\n",
        "        final_clusters = change_clusters_if_needed(clusters, input_image)\n",
        "        new_image = input_image.copy()\n",
        "        populate_image_from_clusters(new_image, final_clusters)\n",
        "        data_new_image.append(new_image)\n",
        "        data_final_clusters.append(final_clusters)\n",
        "        print(\"For K =\",k)\n",
        "        plt.imshow(new_image)\n",
        "        plt.show() \n",
        "    \n",
        "    return data_new_image,data_final_clusters"
      ],
      "execution_count": 0,
      "outputs": []
    },
    {
      "cell_type": "code",
      "metadata": {
        "id": "7Qv81BhiAAGF",
        "colab_type": "code",
        "outputId": "782cd742-69f6-4240-d400-e58928779e71",
        "colab": {
          "base_uri": "https://localhost:8080/",
          "height": 825
        }
      },
      "source": [
        "DataKmean,data_final_clusters=main_Kmeans(Picture_numbr)"
      ],
      "execution_count": 0,
      "outputs": [
        {
          "output_type": "stream",
          "text": [
            "For K = 3\n"
          ],
          "name": "stdout"
        },
        {
          "output_type": "display_data",
          "data": {
            "image/png": "[encoded data removed]",
            "text/plain": [
              "<Figure size 432x288 with 1 Axes>"
            ]
          },
          "metadata": {
            "tags": []
          }
        },
        {
          "output_type": "stream",
          "text": [
            "For K = 5\n"
          ],
          "name": "stdout"
        },
        {
          "output_type": "display_data",
          "data": {
            "image/png": "[encoded data removed]",
            "text/plain": [
              "<Figure size 432x288 with 1 Axes>"
            ]
          },
          "metadata": {
            "tags": []
          }
        },
        {
          "output_type": "stream",
          "text": [
            "For K = 7\n"
          ],
          "name": "stdout"
        },
        {
          "output_type": "display_data",
          "data": {
            "image/png": "[encoded data removed]",
            "text/plain": [
              "<Figure size 432x288 with 1 Axes>"
            ]
          },
          "metadata": {
            "tags": []
          }
        }
      ]
    },
    {
      "cell_type": "markdown",
      "metadata": {
        "id": "tO84FMgA2V4X",
        "colab_type": "text"
      },
      "source": [
        "# Converting Gray Scale\n",
        "convert  RGB Clustered Image to Grey Scale to be easy For Measuring Accuracy"
      ]
    },
    {
      "cell_type": "code",
      "metadata": {
        "id": "Wn-qT4571hyX",
        "colab_type": "code",
        "colab": {}
      },
      "source": [
        "def convertGray(DataKmean):\n",
        "    kmeanClustered=[]\n",
        "    for i in range(0,5):  \n",
        "        a = np.array(DataKmean[i].getdata()).astype(np.float32).reshape((DataKmean[i].size[1],DataKmean[i].size[0],3) )\n",
        "        gray = cv2.cvtColor(a, cv2.COLOR_BGR2GRAY)\n",
        "        p=np.ceil(gray)\n",
        "        plt.imshow(p)\n",
        "        kmeanClustered.append(p)\n",
        "        plt.show()\n",
        "        print(i)\n",
        "    return kmeanClustered\n",
        "    \n"
      ],
      "execution_count": 0,
      "outputs": []
    },
    {
      "cell_type": "code",
      "metadata": {
        "id": "dFMrmhsweJqX",
        "colab_type": "code",
        "colab": {}
      },
      "source": [
        "kmeanClustered=convertGray(DataKmean)"
      ],
      "execution_count": 0,
      "outputs": []
    },
    {
      "cell_type": "code",
      "metadata": {
        "id": "ORM3sl4y38tT",
        "colab_type": "code",
        "colab": {}
      },
      "source": [
        "from sklearn.metrics.cluster import contingency_matrix\n",
        "def fmeasure (i_Kmean,kmeanClustered,arr_gt):\n",
        "    j_2D=[0,1]\n",
        "    fScore=[]\n",
        "    Kmeans_=[3,5,7,9,11]\n",
        "\n",
        "    for i_ in i_Kmean:\n",
        "        for j in j_2D:\n",
        "            true_ = kmeanClustered[i_].flatten()\n",
        "            prediction_ = arr_gt[i_][j].flatten()\n",
        "            cont = contingency_matrix(prediction_, true_)\n",
        "            contingency = cont.T\n",
        "            Actual_P = np.sum(contingency,axis=0)\n",
        "            Actual_N = np.sum(contingency,axis =1)\n",
        "            prec = []\n",
        "            recall =[]\n",
        "            count = 0\n",
        "            for i in contingency:\n",
        "                prec = np.append(prec,(max(i)/Actual_N[count]))\n",
        "                recall = np.append(recall,(max(i)/Actual_P[np.argmax(i)]))\n",
        "                count+=1\n",
        "            f1_measure = (2*prec *recall)/(prec+recall)\n",
        "            total_f1_measure = (1/len(f1_measure))* np.sum(f1_measure)\n",
        "            print('For K =' ,Kmeans_[i_])\n",
        "            print('Fmeasure Value = ',total_f1_measure)\n",
        "            fScore.append(total_f1_measure)\n",
        "    return fScore            \n",
        "       "
      ],
      "execution_count": 0,
      "outputs": []
    },
    {
      "cell_type": "code",
      "metadata": {
        "id": "HrSZUYD8jpAR",
        "colab_type": "code",
        "colab": {}
      },
      "source": [
        "\n",
        "i_Kmean=[0,1,2,3,4]\n",
        "fScore=fmeasure(i_Kmean,kmeanClustered,arr_gt)\n"
      ],
      "execution_count": 0,
      "outputs": []
    },
    {
      "cell_type": "markdown",
      "metadata": {
        "id": "SJbKd4qY9_9-",
        "colab_type": "text"
      },
      "source": [
        "**F-measure**"
      ]
    },
    {
      "cell_type": "code",
      "metadata": {
        "id": "XZ_3hb5Ws6qj",
        "colab_type": "code",
        "colab": {}
      },
      "source": [
        "def plotFmeasure(fScore):\n",
        "    kmeans_odd = [3,5,7,9,11]\n",
        "    kmeans_even = [3,5,7,9,11]\n",
        "    fScore_odd = [fScore[i] for i in range(len(fScore)) if i%2!=0 and i!=0]\n",
        "    fScore_even = [fScore[i] for i in range(len(fScore)) if i%2==0]\n",
        "\n",
        "    plt.figure()\n",
        "    plt.scatter(kmeans_odd,fScore_odd,c='blue')\n",
        "    plt.scatter(kmeans_even,fScore_even,c='red')\n",
        "    plt.ylabel('Fmeasure')\n",
        "    plt.xlabel('K')\n",
        "    plt.show()"
      ],
      "execution_count": 0,
      "outputs": []
    },
    {
      "cell_type": "code",
      "metadata": {
        "id": "_YWesw_sMqTC",
        "colab_type": "code",
        "colab": {}
      },
      "source": [
        "plotFmeasure(fScore)"
      ],
      "execution_count": 0,
      "outputs": []
    },
    {
      "cell_type": "markdown",
      "metadata": {
        "id": "53lnd7lKqAvu",
        "colab_type": "text"
      },
      "source": [
        "Comment On Fmeasure accuracy decreases increasing the number of clusters"
      ]
    },
    {
      "cell_type": "markdown",
      "metadata": {
        "id": "K61K-pkpIpV_",
        "colab_type": "text"
      },
      "source": [
        "**Conditional Entropy**"
      ]
    },
    {
      "cell_type": "code",
      "metadata": {
        "id": "6eGeE7opIlFW",
        "colab_type": "code",
        "colab": {}
      },
      "source": [
        "\n",
        "true_ =kmeanClustered[0].flatten()\n",
        "prediction_ = arr_gt[0][0].flatten()\n",
        "cont = contingency_matrix(prediction_, true_)\n",
        "contingency = cont.T\n",
        "# print(contingency)\n",
        "\n",
        "ni = np.sum(contingency,axis =1)\n",
        "n = np.sum(ni)\n",
        "# print(ni,n)\n",
        "\n",
        "count = 0\n",
        "centroids_entropy = []\n",
        "\n",
        "for i in contingency:\n",
        "    # -(n(i,j)/ni)log(n(i,j)/ni)\n",
        "    c = 0\n",
        "    for j in range(contingency.shape[1]):\n",
        "        if i[j]/ni[count] !=0:\n",
        "           c = c -(i[j]/ni[count])*np.log2(i[j]/ni[count])\n",
        "    centroids_entropy.append(c)\n",
        "\n",
        "    count +=1\n",
        "entropy = 0 \n",
        "for i in centroids_entropy:\n",
        "    entropy +=(ni[centroids_entropy.index(i)]/n)*i\n",
        "    \n",
        "print(\"Conditional entropy For K = 3\",entropy)"
      ],
      "execution_count": 0,
      "outputs": []
    },
    {
      "cell_type": "markdown",
      "metadata": {
        "id": "L0halAv-WfTf",
        "colab_type": "text"
      },
      "source": [
        "**Get 5 pictures**"
      ]
    },
    {
      "cell_type": "code",
      "metadata": {
        "id": "1Uu2KR7G-Aku",
        "colab_type": "code",
        "colab": {}
      },
      "source": [
        "chsenNumbers=[46,20,14,32,7]\n",
        "i_Kmean=[0,1,2,3,4]\n",
        "f_Score=[]\n",
        "for i in i_Kmean:\n",
        "    DataKmean,data_final_clusters=main_Kmeans(chsenNumbers[i])\n",
        "    kmeanClustered=convertGray(DataKmean)\n",
        "    testPlot_=groundTruth_path+sortedGroundTruthFile[chsenNumbers[i]]\n",
        "    arr_gt=load_bsd_gt(testPlot_)\n",
        "    tst_Kmean=[0,1,2,3,4]\n",
        "    f=fmeasure(tst_Kmean,kmeanClustered,arr_gt)\n",
        "    f_Score.append(f)\n",
        "    plotFmeasure(f)\n",
        "\n",
        " \n",
        "\n",
        "\n",
        "    "
      ],
      "execution_count": 0,
      "outputs": []
    },
    {
      "cell_type": "markdown",
      "metadata": {
        "id": "ASy4LJa3j6w6",
        "colab_type": "text"
      },
      "source": [
        "Spectural Clustering\n",
        "**bold text**"
      ]
    },
    {
      "cell_type": "code",
      "metadata": {
        "id": "cLBb_Fl9Lkqc",
        "colab_type": "code",
        "colab": {}
      },
      "source": [
        "\n",
        "imagesFile_path = \"BSR/BSDS500/data/images/train/\"\n",
        "imagesFile = [f for f in listdir(imagesFile_path) if isfile(join(imagesFile_path, f)) and f.endswith(\".jpg\")]\n",
        "sortedImgfiles=sorted(imagesFile)\n",
        "testPlot=imagesFile_path+sortedImgfiles[22]\n",
        "image = Image.open(testPlot)\n",
        "image_data = np.asarray(image)\n",
        "res = cv2.resize(image_data, dsize=(100, 100), interpolation=cv2.INTER_CUBIC)\n",
        "smoothed=cv2.GaussianBlur(res,(7,7),0)\n",
        "data_img=smoothed.reshape(-1,3)\n",
        "matrix_= pairwise_distances(data_img, metric='euclidean')\n",
        "affinityMatrix = []\n",
        "for row in matrix_:\n",
        "  for dimensions in  row:\n",
        "    aff= np.exp(-0.01 * dimensions ** 2)\n",
        "    affinityMatrix.append(aff)\n",
        "\n",
        "affinityMatrix=np.array(affinityMatrix)\n",
        "affinityMatrix=affinityMatrix.reshape(10000,10000)\n",
        "clustering = SpectralClustering(n_clusters=5, assign_labels=\"discretize\", affinity=\"precomputed\").fit(affinityMatrix)\n",
        "colorsRandom = [[213, 113, 108],[0,0,0],[255,255,255],[255,51,51],[254, 237, 127],[0,255,178],[124, 210, 234],[51,51,255],[204,255,255],[139, 151, 186],[100,100,100]]\n",
        "newImage = []\n",
        "for k in range(0,10000):\n",
        "  newImage.append(colors[clustering.labels_[k]])\n",
        "  \n",
        "newImage=np.array(newImage).reshape(100,100,3)\n",
        "plt.imshow(newImage)\n"
      ],
      "execution_count": 0,
      "outputs": []
    }
  ]
}